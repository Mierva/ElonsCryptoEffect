{
 "cells": [
  {
   "attachments": {},
   "cell_type": "markdown",
   "metadata": {},
   "source": [
    "# Loading data"
   ]
  },
  {
   "cell_type": "code",
   "execution_count": 7,
   "metadata": {},
   "outputs": [],
   "source": [
    "from DataPreparation.CryptoPreprocessor import CryptoPreprocessor\n",
    "from DataPreparation.TweetPreprocessor import TweetPreprocessor\n",
    "from gensim.test.utils import datapath\n",
    "from gensim.models import LdaMulticore\n",
    "import pandas as pd\n",
    "import numpy as np\n",
    "import json\n",
    "\n",
    " \n",
    "tweets_df = pd.read_csv(r'Data/elon_tweets.csv', index_col=0)\n",
    "twt_prep = TweetPreprocessor(tweets_df)\n",
    "mod_tweets_df = twt_prep.transform()\n",
    "\n",
    "temp_file = datapath(r\"D:\\Projects\\ElonMuskCrypto\\Models\\NLPmodels\\lda\")\n",
    "lda_model = LdaMulticore.load(temp_file)\n",
    "id2word = lda_model.id2word\n",
    "with open('corpus.json', 'r') as r:\n",
    "    corpus = json.load(r)\n",
    "btc_df = pd.read_csv('Data/btc_data.csv', index_col=0)\n",
    "crypto_prep = CryptoPreprocessor()\n",
    "\n",
    "topics_btc = pd.read_csv('topics_btc.csv', index_col=0)\n",
    "topics_btc.index = pd.to_datetime(topics_btc.index)\n",
    "tweets = pd.read_csv(r'Data/elon_tweets.csv', index_col=0)\n",
    "btc_df = pd.read_csv('Data/btc_data.csv')    \n",
    "tweets['date'] = pd.to_datetime(tweets['date'])  \n",
    "btc_df['time'] = pd.to_datetime(btc_df['time'])"
   ]
  },
  {
   "attachments": {},
   "cell_type": "markdown",
   "metadata": {},
   "source": [
    "# Accessing XGB model"
   ]
  },
  {
   "cell_type": "code",
   "execution_count": 13,
   "metadata": {},
   "outputs": [
    {
     "data": {
      "image/png": "[encoded data removed]",
      "text/plain": [
       "<Figure size 576x504 with 1 Axes>"
      ]
     },
     "metadata": {
      "needs_background": "light"
     },
     "output_type": "display_data"
    }
   ],
   "source": [
    "from sklearn.metrics import roc_auc_score, roc_curve\n",
    "from xgboost import XGBClassifier\n",
    "import matplotlib.pyplot as plt\n",
    "\n",
    "\n",
    "data = topics_btc.copy()\n",
    "horizons = [2,7,21,28,60,90,180,364]\n",
    "data, new_predictors = crypto_prep.add_trend_season(data, horizons)\n",
    "best_model = XGBClassifier()\n",
    "best_model.load_model('Models/CRYPTOmodels/xgbc_1694187252.json')\n",
    "\n",
    "X_test, y_test = data[best_model.feature_names_in_].iloc[-90:], data['target'].iloc[-90:]\n",
    "y_pred_proba = best_model.predict_proba(X_test)[::,1]\n",
    "fpr, tpr, _ = roc_curve(y_test,  y_pred_proba)\n",
    "auc = roc_auc_score(y_test, y_pred_proba)\n",
    "\n",
    "\n",
    "def plot_roc_curve(true_y, y_prob):\n",
    "    \"\"\"\n",
    "    plots the roc curve based of the probabilities\n",
    "    \"\"\"\n",
    "\n",
    "    fpr, tpr, thresholds = roc_curve(true_y, y_prob)\n",
    "    plt.figure(figsize=(8,7))\n",
    "    plt.plot(fpr, tpr, label=f'AUC={auc}')\n",
    "    plt.xlabel('False Positive Rate')\n",
    "    plt.ylabel('True Positive Rate')\n",
    "    plt.legend(loc=4)\n",
    "    \n",
    "plot_roc_curve(y_test, y_pred_proba)"
   ]
  },
  {
   "cell_type": "markdown",
   "metadata": {},
   "source": [
    "\n",
    "# Hypothesis testing"
   ]
  },
  {
   "cell_type": "markdown",
   "metadata": {},
   "source": [
    "## Comparing two types of models\n",
    "***\n",
    "by randomly training 15000 candidates for data including tweets and data excluding tweets\n",
    "i ensure that:\n",
    "1.  the results are robuts to any coincidence\n",
    "2.  not tuned for certain type of data (one or another) \n",
    "and selected from the same parameter space (even though very vast)\n",
    "***"
   ]
  },
  {
   "cell_type": "code",
   "execution_count": 14,
   "metadata": {},
   "outputs": [
    {
     "data": {
      "image/png": "[encoded data removed]",
      "text/plain": [
       "<Figure size 1152x576 with 1 Axes>"
      ]
     },
     "metadata": {
      "needs_background": "light"
     },
     "output_type": "display_data"
    }
   ],
   "source": [
    "def plot_groups(tuner_A, tuner_B, bins=10):\n",
    "    scores_A = tuner_A['mean_test_score'].copy()\n",
    "    scores_B = tuner_B['mean_test_score'].copy()\n",
    "    \n",
    "    fig, ax1 = plt.subplots()\n",
    "    fig.set_figwidth(16)\n",
    "    fig.set_figheight(8)\n",
    "    \n",
    "    n,b,_ = ax1.hist([scores_A, scores_B], \n",
    "                    ec='k', \n",
    "                    label=['A group','B group'], \n",
    "                    bins=bins, \n",
    "                    range=(np.min([scores_A, scores_B])-0.001,\n",
    "                           np.max([scores_A, scores_B])+0.001))\n",
    "    ax1.legend(loc='right')\n",
    "    ax1.set(title='Difference between A and B groups', xlabel='test score', ylabel='# of models')           \n",
    "    \n",
    "    return n,b\n",
    "\n",
    "\n",
    "A_group = pd.concat([pd.read_csv('Models/Tuned_in_csv/with_tweets_models (1).csv', index_col=0), \n",
    "                     pd.read_csv('Models/Tuned_in_csv/with_tweets_models.csv', index_col=0)])\n",
    "\n",
    "B_group = pd.concat([pd.read_csv('Models/Tuned_in_csv/without_tweets_models (1).csv', index_col=0), \n",
    "                     pd.read_csv('Models/Tuned_in_csv/without_tweets_models.csv', index_col=0)])\n",
    "\n",
    "df = pd.concat([A_group['mean_test_score'], B_group['mean_test_score']], axis=1, verify_integrity=True)\n",
    "df.columns = ['with_tweets_scores','without_tweets_scores']\n",
    "\n",
    "n,bins  = plot_groups(A_group, B_group, 20)"
   ]
  },
  {
   "cell_type": "code",
   "execution_count": 26,
   "metadata": {},
   "outputs": [
    {
     "data": {
      "text/html": [
       "\n",
       "        <iframe\n",
       "            width=\"100%\"\n",
       "            height=\"650\"\n",
       "            src=\"http://127.0.0.1:8050/\"\n",
       "            frameborder=\"0\"\n",
       "            allowfullscreen\n",
       "            \n",
       "        ></iframe>\n",
       "        "
      ],
      "text/plain": [
       "<IPython.lib.display.IFrame at 0x211b1988760>"
      ]
     },
     "metadata": {},
     "output_type": "display_data"
    }
   ],
   "source": [
    "from dash import Dash, dcc, html\n",
    "from dash.dependencies import Output, Input\n",
    "import plotly.express as px\n",
    "\n",
    "\n",
    "MIN,MAX = 10,25\n",
    "app = Dash(__name__)\n",
    "app.layout = html.Div([dcc.Graph(id='histogram'),\n",
    "                       html.P(\"Bins:\"),\n",
    "                       dcc.Slider(id='bins-slider',min=MIN, max=MAX,step=1, value=8)                                 \n",
    "                       ])\n",
    "\n",
    "@app.callback(Output('histogram', 'figure'),\n",
    "              [Input('bins-slider', 'value')])\n",
    "def update_histogram(bins):\n",
    "    fig = px.histogram(df, \n",
    "                       nbins=bins, \n",
    "                    #    barmode=\"stack\",\n",
    "                       labels={'value':'mean test score'},\n",
    "                       title=f'bins = {bins}',\n",
    "                       width=950,\n",
    "                       height=500)\n",
    "    \n",
    "    fig.update_traces(marker_line_color='black',\n",
    "                      marker_line_width=0.5)\n",
    "    return fig\n",
    "\n",
    "\n",
    "app.run(debug=True)"
   ]
  },
  {
   "cell_type": "markdown",
   "metadata": {},
   "source": [
    "#### From histograms we can conclude that to have a significant increase in accuracy we most certainly have to use data with tweets due to dominance among scores past 0.56."
   ]
  },
  {
   "cell_type": "code",
   "execution_count": 30,
   "metadata": {},
   "outputs": [
    {
     "data": {
      "text/plain": [
       "(0.0, True)"
      ]
     },
     "execution_count": 30,
     "metadata": {},
     "output_type": "execute_result"
    }
   ],
   "source": [
    "from scipy import stats\n",
    "\n",
    "\n",
    "alpha = 0.05\n",
    "tstat, pvalue = stats.wilcoxon(df['with_tweets_scores'], df['without_tweets_scores'])\n",
    "pvalue, pvalue < alpha"
   ]
  },
  {
   "cell_type": "code",
   "execution_count": 31,
   "metadata": {},
   "outputs": [
    {
     "data": {
      "text/plain": [
       "(3.7800271535095065e-291, True)"
      ]
     },
     "execution_count": 31,
     "metadata": {},
     "output_type": "execute_result"
    }
   ],
   "source": [
    "tstat, pvalue = stats.ttest_ind(df['with_tweets_scores'], df['without_tweets_scores'], equal_var=False)\n",
    "pvalue, pvalue < alpha"
   ]
  },
  {
   "cell_type": "markdown",
   "metadata": {},
   "source": [
    "#### Based on statistical tests(Wilcoxon and T-test) i can conclude that there is some kind of relationship between Elon Musk's tweets and changes in Bitcoin with alpha = 0.05 and p-values very close to zero that most likely eliminates randomness considering sizes of samples being large enough to represent a wide set of parameters."
   ]
  }
 ],
 "metadata": {
  "kernelspec": {
   "display_name": "Python 3",
   "language": "python",
   "name": "python3"
  },
  "language_info": {
   "codemirror_mode": {
    "name": "ipython",
    "version": 3
   },
   "file_extension": ".py",
   "mimetype": "text/x-python",
   "name": "python",
   "nbconvert_exporter": "python",
   "pygments_lexer": "ipython3",
   "version": "3.9.7"
  },
  "orig_nbformat": 4
 },
 "nbformat": 4,
 "nbformat_minor": 2
}
