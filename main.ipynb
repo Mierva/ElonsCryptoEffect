{
 "cells": [
  {
   "attachments": {},
   "cell_type": "markdown",
   "metadata": {
    "tags": []
   },
   "source": [
    "# Fetching crypto and tweets data."
   ]
  },
  {
   "cell_type": "code",
   "execution_count": 1,
   "metadata": {},
   "outputs": [],
   "source": [
    "from sklearn.preprocessing import OrdinalEncoder\n",
    "from TweetScraper import TweetScraper\n",
    "from CryptoApi import CryptoApi\n",
    "import pandas as pd\n",
    "import numpy as np\n",
    "import re\n",
    "\n",
    "\n",
    "# scrp = TweetScraper(start='2023-08-10', end='2023-08-14', max_empty_pages=1, max_workers=1)\n",
    "# new_tweets = scrp.parallel_download_tweets()\n",
    "# new_twt = pd.DataFrame(new_tweets)\n",
    "\n",
    "# with open('crypto_token.txt','r') as f:\n",
    "#     token = f.readline()\n",
    "    \n",
    "# crypto = CryptoApi(token)\n",
    "# crypto.get_data('btc','usd','day',period_count=90)"
   ]
  },
  {
   "cell_type": "code",
   "execution_count": 2,
   "metadata": {},
   "outputs": [],
   "source": [
    "from datetime import datetime, timedelta\n",
    "\n",
    "# dformat = '%Y-%m-%d %H:%M:%S'\n",
    "# btc_old = pd.read_csv('Data/HourlyData/hourly_btc.csv')\n",
    "# old = datetime.strptime(btc_old['time'].iloc[-1], dformat)\n",
    "\n",
    "# start = (datetime.now() - (datetime.now() - old)).strftime(dformat) \n",
    "# end = datetime.now().strftime(dformat)\n",
    "\n",
    "# with open('crypto_token.txt','r') as f:\n",
    "#     token = f.readline()\n",
    "\n",
    "# crypto = CryptoApi(token)\n",
    "# period_count = (datetime.strptime(end, dformat)-datetime.strptime(start, dformat)).days*24\n",
    "# period_count+=21\n",
    "# new_btc  = crypto.fetch_data('btc','usd', period='hour', period_count=period_count)\n",
    "# new_doge = crypto.fetch_data('doge','usd', period='hour', period_count=period_count)\n",
    "# new_eth  = crypto.fetch_data('eth','usd', period='hour', period_count=period_count)\n",
    "\n",
    "# # full_df = pd.concat([btc_old, new_btc], axis=0).reset_index(drop=True).drop('Unnamed: 0', axis=1)\n",
    "# # full_df['time'] = pd.to_datetime(full_df['time'])\n",
    "# # full_df = full_df.set_index('time')\n",
    "\n",
    "# eth_old = pd.read_csv('Data/HourlyData/hourly_eth.csv')\n",
    "# full_df = pd.concat([eth_old, new_eth], axis=0).reset_index(drop=True).drop('Unnamed: 0', axis=1)\n",
    "# full_df['time'] = pd.to_datetime(full_df['time'])\n",
    "# full_df = full_df.set_index('time')\n",
    "\n",
    "# full_df.to_csv('Data/HourlyData/eth_upd.csv')\n",
    "\n",
    "# doge_old = pd.read_csv('Data/HourlyData/hourly_doge.csv')\n",
    "# full_df = pd.concat([doge_old, new_doge], axis=0).reset_index(drop=True).drop('Unnamed: 0', axis=1)\n",
    "# full_df['time'] = pd.to_datetime(full_df['time'])\n",
    "# full_df = full_df.set_index('time')\n",
    "\n",
    "# full_df.to_csv('Data/HourlyData/doge_upd.csv')"
   ]
  },
  {
   "cell_type": "code",
   "execution_count": 3,
   "metadata": {},
   "outputs": [],
   "source": [
    "# def update_data(crypto_name: str, currency: str, period: str):\n",
    "#     old_df = pd.read_csv('Data/HourlyData/hourly_btc.csv')\n",
    "#     old_df['time'] = pd.to_datetime(old_df['time'])\n",
    "    \n",
    "#     start = old_df['time'].iloc[-1].date().strftime(\"%Y-%m-%d\") \n",
    "#     end = datetime.now().strftime(\"%Y-%m-%d\")\n",
    "    \n",
    "#     with open('crypto_token.txt','r') as f:\n",
    "#         token = f.readline()\n",
    "\n",
    "#     crypto = CryptoApi(token)\n",
    "#     period_count = (datetime.strptime(end,'%Y-%m-%d')-datetime.strptime(start,'%Y-%m-%d')).days    \n",
    "#     new_df = crypto.fetch_data(crypto_name, currency, period=period, period_count=24*period_count)\n",
    "    \n",
    "#     return new_df\n",
    "\n",
    "# rabbit = update_data('btc','usd','hour')"
   ]
  },
  {
   "cell_type": "code",
   "execution_count": 4,
   "metadata": {},
   "outputs": [],
   "source": [
    "# old_btc = pd.read_csv('Data/HourlyData/hourly_btc.csv').drop('Unnamed: 0', axis=1)\n",
    "# old_btc['time'] = pd.to_datetime(old_btc['time'])\n",
    "\n",
    "# # rabbit = rabbit[rabbit['time'].isin(old_btc['time'])==False]\n",
    "# wtfisthat = pd.merge(old_btc[old_btc.columns[:-2]], rabbit[rabbit.columns[:-2]], how='outer').set_index('time')\n",
    "# # wtfisthat[wtfisthat.index]\n",
    "\n",
    "# wtfisthat.index[0] >= datetime.strptime('2023-04-06','%Y-%m-%d')"
   ]
  },
  {
   "cell_type": "code",
   "execution_count": 5,
   "metadata": {},
   "outputs": [],
   "source": [
    "# import matplotlib.pyplot as plt\n",
    "\n",
    "\n",
    "# # wtfisthat.index = pd.to_datetime(wtfisthat.index)\n",
    "# plt.figure(figsize=(12,8))\n",
    "# plt.plot(wtfisthat['high'])"
   ]
  },
  {
   "attachments": {},
   "cell_type": "markdown",
   "metadata": {},
   "source": [
    "# Analysis of tweets"
   ]
  },
  {
   "cell_type": "code",
   "execution_count": 6,
   "metadata": {},
   "outputs": [],
   "source": [
    "# new_tweets_df = TweetScraper().fetch_data('2023-04-10','2023-06-09', frequency='d')\n",
    "# cleaned_df = TweetCleaner().transform(new_tweets_df)\n",
    "# nlp_model = LDA().fit(cleaned_df)\n",
    "# cleaned_df = extract_topics(nlp_model.topics)\n",
    "\n",
    "# new_btc_df = CryptoApi().fetch_data()\n",
    "# cleaned_btc = CryptoCleaner().transform(new_btc_df)\n",
    "# xgb_model = XGBoost().fit(cleaned_btc)"
   ]
  },
  {
   "cell_type": "code",
   "execution_count": 7,
   "metadata": {},
   "outputs": [],
   "source": [
    "from DataPreparation.CryptoPreprocessor import CryptoPreprocessor\n",
    "from DataPreparation.TweetPreprocessor import TweetPreprocessor\n",
    "from DataPreparation.TextVectorizer import TextVectorizer\n",
    "from gensim.test.utils import datapath\n",
    "from gensim.models import LdaMulticore\n",
    "import json\n",
    "\n",
    "\n",
    "# TODO: quickload this part 2m 43s\n",
    " \n",
    "tweets_df = pd.read_csv(r'Data/elon_tweets.csv', index_col=0)\n",
    "twt_prep = TweetPreprocessor(tweets_df)\n",
    "mod_tweets_df = twt_prep.transform()\n",
    "\n",
    "# text2vec = TextVectorizer()\n",
    "# preprocessing_pipeline = text2vec.make_pipeline()\n",
    "# id2word, corpus = preprocessing_pipeline.transform(mod_tweets_df['rawContent'].values.tolist())\n",
    "# with open(\"corpus.json\" , \"w\" ) as w:\n",
    "#     json.dump(corpus , w)\n",
    "\n",
    "temp_file = datapath(r\"D:\\Projects\\ElonMuskCrypto\\Models\\NLPmodels\\lda\")\n",
    "lda_model = LdaMulticore.load(temp_file)\n",
    "id2word = lda_model.id2word\n",
    "with open('corpus.json', 'r') as r:\n",
    "    corpus = json.load(r)"
   ]
  },
  {
   "cell_type": "code",
   "execution_count": 8,
   "metadata": {},
   "outputs": [],
   "source": [
    "btc_df = pd.read_csv('Data/btc_data.csv', index_col=0)\n",
    "crypto_prep = CryptoPreprocessor()\n",
    "# topics_btc = crypto_prep.transform(lda_model, mod_tweets_df, btc_df)\n",
    "# topics_btc.to_csv('topics_btc.csv')\n",
    "\n",
    "topics_btc = pd.read_csv('topics_btc.csv', index_col=0)\n",
    "topics_btc.index = pd.to_datetime(topics_btc.index)"
   ]
  },
  {
   "cell_type": "code",
   "execution_count": 43,
   "metadata": {},
   "outputs": [],
   "source": [
    "tweets = pd.read_csv(r'Data/elon_tweets.csv', index_col=0)\n",
    "btc_df = pd.read_csv('Data/btc_data.csv')    \n",
    "tweets['date'] = pd.to_datetime(tweets['date'])  \n",
    "btc_df['time'] = pd.to_datetime(btc_df['time'])"
   ]
  },
  {
   "attachments": {},
   "cell_type": "markdown",
   "metadata": {},
   "source": [
    "# Tuning XGB"
   ]
  },
  {
   "cell_type": "code",
   "execution_count": 9,
   "metadata": {},
   "outputs": [],
   "source": [
    "data = topics_btc.copy()\n",
    "\n",
    "def predict(data, predictors, model, threshold=0.5):\n",
    "    preds = model.predict_proba(data[predictors])[:,1]\n",
    "    preds[preds >= threshold] = 1\n",
    "    preds[preds < threshold]  = 0    \n",
    "    return preds"
   ]
  },
  {
   "cell_type": "code",
   "execution_count": 10,
   "metadata": {},
   "outputs": [],
   "source": [
    "def predict(train, test, predictors, model, year, threshold=0.5):\n",
    "    model.fit(train[predictors], train['target'])\n",
    "    preds = model.predict_proba(test[predictors])[:,1]\n",
    "    preds[preds >= threshold] = 1\n",
    "    preds[preds < threshold]  = 0\n",
    "    preds = pd.Series(preds, index=test.index, name='Predictions')    \n",
    "    combined = pd.concat([test['target'], preds], axis=1)\n",
    "    combined[f'year_{year}'] = year\n",
    "    \n",
    "    return combined\n",
    "\n"
   ]
  },
  {
   "cell_type": "code",
   "execution_count": 14,
   "metadata": {},
   "outputs": [],
   "source": [
    "def extract_dict(line: str, prepare_to_df=False):\n",
    "    extracted_content = dict(re.findall(r\"'(\\w+)': '?({.*}|datetime.datetime\\(.*\\)|[\\w\\d/:\\. ]*)'?\", line))\n",
    "    \n",
    "    # Wraps dict values into lists to be easily represented as a DataFrame row.\n",
    "    if prepare_to_df:\n",
    "        for key,value in extracted_content.items():\n",
    "            if value == '':\n",
    "                extracted_content[key] = [None]\n",
    "            else:\n",
    "                extracted_content[key] = value\n",
    "        \n",
    "    return extracted_content"
   ]
  },
  {
   "cell_type": "code",
   "execution_count": 15,
   "metadata": {},
   "outputs": [],
   "source": [
    "# trend_no_nan = data[data['Trend_365'].notna()].copy()\n",
    "\n",
    "# data_with_nan = trend_no_nan.isna().mean().sort_values(ascending=False)\n",
    "# for i,prop in zip(data_with_nan.index, data_with_nan):\n",
    "#     if 'T_' not in i and prop != 0.0:\n",
    "#         print(f'{i:<16}| {round(prop, 4)}')"
   ]
  },
  {
   "cell_type": "code",
   "execution_count": 16,
   "metadata": {},
   "outputs": [],
   "source": [
    "# ppl = data['replyCount'].iloc[-400:-290].copy()\n",
    "# ffill_imp = ppl.interpolate(method='bfill')\n",
    "\n",
    "# plt.figure(figsize=(20,8))\n",
    "# ffill_imp.plot(color='red', linestyle='dotted')\n",
    "# ppl.plot(title='MaxSpeed')"
   ]
  },
  {
   "cell_type": "markdown",
   "metadata": {},
   "source": [
    "## Window approach"
   ]
  },
  {
   "cell_type": "code",
   "execution_count": 17,
   "metadata": {},
   "outputs": [],
   "source": [
    "# def add_lags(df):\n",
    "#     df = df.copy()\n",
    "#     target_map = df['target'].to_dict()\n",
    "#     df['lag2'] = (df.index - pd.Timedelta('2 day')).map(target_map) \n",
    "#     df['lag7'] = (df.index - pd.Timedelta('7 day')).map(target_map) \n",
    "#     df['lag14'] = (df.index - pd.Timedelta('14 day')).map(target_map) \n",
    "#     df['lag30'] = (df.index - pd.Timedelta('30 day')).map(target_map) \n",
    "#     df['lag60'] = (df.index - pd.Timedelta('60 day')).map(target_map) \n",
    "#     df['lag90'] = (df.index - pd.Timedelta('90 day')).map(target_map) \n",
    "#     df['lag365'] = (df.index - pd.Timedelta('365 day')).map(target_map) \n",
    "#     return df\n",
    "\n",
    "# data = add_lags(data)"
   ]
  },
  {
   "cell_type": "code",
   "execution_count": 20,
   "metadata": {},
   "outputs": [
    {
     "name": "stdout",
     "output_type": "stream",
     "text": [
      "Fitting 5 folds for each of 10 candidates, totalling 50 fits\n"
     ]
    },
    {
     "data": {
      "text/html": [
       "<style>#sk-container-id-1 {color: black;background-color: white;}#sk-container-id-1 pre{padding: 0;}#sk-container-id-1 div.sk-toggleable {background-color: white;}#sk-container-id-1 label.sk-toggleable__label {cursor: pointer;display: block;width: 100%;margin-bottom: 0;padding: 0.3em;box-sizing: border-box;text-align: center;}#sk-container-id-1 label.sk-toggleable__label-arrow:before {content: \"▸\";float: left;margin-right: 0.25em;color: #696969;}#sk-container-id-1 label.sk-toggleable__label-arrow:hover:before {color: black;}#sk-container-id-1 div.sk-estimator:hover label.sk-toggleable__label-arrow:before {color: black;}#sk-container-id-1 div.sk-toggleable__content {max-height: 0;max-width: 0;overflow: hidden;text-align: left;background-color: #f0f8ff;}#sk-container-id-1 div.sk-toggleable__content pre {margin: 0.2em;color: black;border-radius: 0.25em;background-color: #f0f8ff;}#sk-container-id-1 input.sk-toggleable__control:checked~div.sk-toggleable__content {max-height: 200px;max-width: 100%;overflow: auto;}#sk-container-id-1 input.sk-toggleable__control:checked~label.sk-toggleable__label-arrow:before {content: \"▾\";}#sk-container-id-1 div.sk-estimator input.sk-toggleable__control:checked~label.sk-toggleable__label {background-color: #d4ebff;}#sk-container-id-1 div.sk-label input.sk-toggleable__control:checked~label.sk-toggleable__label {background-color: #d4ebff;}#sk-container-id-1 input.sk-hidden--visually {border: 0;clip: rect(1px 1px 1px 1px);clip: rect(1px, 1px, 1px, 1px);height: 1px;margin: -1px;overflow: hidden;padding: 0;position: absolute;width: 1px;}#sk-container-id-1 div.sk-estimator {font-family: monospace;background-color: #f0f8ff;border: 1px dotted black;border-radius: 0.25em;box-sizing: border-box;margin-bottom: 0.5em;}#sk-container-id-1 div.sk-estimator:hover {background-color: #d4ebff;}#sk-container-id-1 div.sk-parallel-item::after {content: \"\";width: 100%;border-bottom: 1px solid gray;flex-grow: 1;}#sk-container-id-1 div.sk-label:hover label.sk-toggleable__label {background-color: #d4ebff;}#sk-container-id-1 div.sk-serial::before {content: \"\";position: absolute;border-left: 1px solid gray;box-sizing: border-box;top: 0;bottom: 0;left: 50%;z-index: 0;}#sk-container-id-1 div.sk-serial {display: flex;flex-direction: column;align-items: center;background-color: white;padding-right: 0.2em;padding-left: 0.2em;position: relative;}#sk-container-id-1 div.sk-item {position: relative;z-index: 1;}#sk-container-id-1 div.sk-parallel {display: flex;align-items: stretch;justify-content: center;background-color: white;position: relative;}#sk-container-id-1 div.sk-item::before, #sk-container-id-1 div.sk-parallel-item::before {content: \"\";position: absolute;border-left: 1px solid gray;box-sizing: border-box;top: 0;bottom: 0;left: 50%;z-index: -1;}#sk-container-id-1 div.sk-parallel-item {display: flex;flex-direction: column;z-index: 1;position: relative;background-color: white;}#sk-container-id-1 div.sk-parallel-item:first-child::after {align-self: flex-end;width: 50%;}#sk-container-id-1 div.sk-parallel-item:last-child::after {align-self: flex-start;width: 50%;}#sk-container-id-1 div.sk-parallel-item:only-child::after {width: 0;}#sk-container-id-1 div.sk-dashed-wrapped {border: 1px dashed gray;margin: 0 0.4em 0.5em 0.4em;box-sizing: border-box;padding-bottom: 0.4em;background-color: white;}#sk-container-id-1 div.sk-label label {font-family: monospace;font-weight: bold;display: inline-block;line-height: 1.2em;}#sk-container-id-1 div.sk-label-container {text-align: center;}#sk-container-id-1 div.sk-container {/* jupyter's `normalize.less` sets `[hidden] { display: none; }` but bootstrap.min.css set `[hidden] { display: none !important; }` so we also need the `!important` here to be able to override the default hidden behavior on the sphinx rendered scikit-learn.org. See: https://github.com/scikit-learn/scikit-learn/issues/21755 */display: inline-block !important;position: relative;}#sk-container-id-1 div.sk-text-repr-fallback {display: none;}</style><div id=\"sk-container-id-1\" class=\"sk-top-container\"><div class=\"sk-text-repr-fallback\"><pre>RandomizedSearchCV(cv=&lt;zip object at 0x0000021B83C37240&gt;,\n",
       "                   estimator=XGBClassifier(base_score=None, booster=None,\n",
       "                                           callbacks=None,\n",
       "                                           colsample_bylevel=None,\n",
       "                                           colsample_bynode=None,\n",
       "                                           colsample_bytree=None,\n",
       "                                           early_stopping_rounds=None,\n",
       "                                           enable_categorical=False,\n",
       "                                           eval_metric=None, feature_types=None,\n",
       "                                           gamma=None, gpu_id=None,\n",
       "                                           grow_policy=None,\n",
       "                                           importance_type=None,\n",
       "                                           interaction_...\n",
       "                                        &#x27;max_depth&#x27;: array([ 2,  3,  4,  5,  6,  7,  8,  9, 10, 11, 12, 13, 14, 15, 16, 17, 18,\n",
       "       19, 20, 21, 22, 23, 24, 25, 26, 27, 28, 29, 30, 31, 32, 33, 34]),\n",
       "                                        &#x27;n_estimators&#x27;: array([10, 11, 12, 13, 14, 15, 16, 17, 18, 19, 20, 21, 22, 23, 24, 25, 26,\n",
       "       27, 28, 29, 30, 31, 32, 33, 34, 35, 36, 37, 38, 39, 40, 41, 42, 43,\n",
       "       44, 45, 46, 47, 48, 49, 50, 51, 52, 53, 54, 55, 56, 57, 58, 59, 60,\n",
       "       61, 62, 63, 64, 65, 66, 67, 68, 69])},\n",
       "                   random_state=1, return_train_score=True,\n",
       "                   scoring=make_scorer(balanced_accuracy_score), verbose=3)</pre><b>In a Jupyter environment, please rerun this cell to show the HTML representation or trust the notebook. <br />On GitHub, the HTML representation is unable to render, please try loading this page with nbviewer.org.</b></div><div class=\"sk-container\" hidden><div class=\"sk-item sk-dashed-wrapped\"><div class=\"sk-label-container\"><div class=\"sk-label sk-toggleable\"><input class=\"sk-toggleable__control sk-hidden--visually\" id=\"sk-estimator-id-1\" type=\"checkbox\" ><label for=\"sk-estimator-id-1\" class=\"sk-toggleable__label sk-toggleable__label-arrow\">RandomizedSearchCV</label><div class=\"sk-toggleable__content\"><pre>RandomizedSearchCV(cv=&lt;zip object at 0x0000021B83C37240&gt;,\n",
       "                   estimator=XGBClassifier(base_score=None, booster=None,\n",
       "                                           callbacks=None,\n",
       "                                           colsample_bylevel=None,\n",
       "                                           colsample_bynode=None,\n",
       "                                           colsample_bytree=None,\n",
       "                                           early_stopping_rounds=None,\n",
       "                                           enable_categorical=False,\n",
       "                                           eval_metric=None, feature_types=None,\n",
       "                                           gamma=None, gpu_id=None,\n",
       "                                           grow_policy=None,\n",
       "                                           importance_type=None,\n",
       "                                           interaction_...\n",
       "                                        &#x27;max_depth&#x27;: array([ 2,  3,  4,  5,  6,  7,  8,  9, 10, 11, 12, 13, 14, 15, 16, 17, 18,\n",
       "       19, 20, 21, 22, 23, 24, 25, 26, 27, 28, 29, 30, 31, 32, 33, 34]),\n",
       "                                        &#x27;n_estimators&#x27;: array([10, 11, 12, 13, 14, 15, 16, 17, 18, 19, 20, 21, 22, 23, 24, 25, 26,\n",
       "       27, 28, 29, 30, 31, 32, 33, 34, 35, 36, 37, 38, 39, 40, 41, 42, 43,\n",
       "       44, 45, 46, 47, 48, 49, 50, 51, 52, 53, 54, 55, 56, 57, 58, 59, 60,\n",
       "       61, 62, 63, 64, 65, 66, 67, 68, 69])},\n",
       "                   random_state=1, return_train_score=True,\n",
       "                   scoring=make_scorer(balanced_accuracy_score), verbose=3)</pre></div></div></div><div class=\"sk-parallel\"><div class=\"sk-parallel-item\"><div class=\"sk-item\"><div class=\"sk-label-container\"><div class=\"sk-label sk-toggleable\"><input class=\"sk-toggleable__control sk-hidden--visually\" id=\"sk-estimator-id-2\" type=\"checkbox\" ><label for=\"sk-estimator-id-2\" class=\"sk-toggleable__label sk-toggleable__label-arrow\">estimator: XGBClassifier</label><div class=\"sk-toggleable__content\"><pre>XGBClassifier(base_score=None, booster=None, callbacks=None,\n",
       "              colsample_bylevel=None, colsample_bynode=None,\n",
       "              colsample_bytree=None, early_stopping_rounds=None,\n",
       "              enable_categorical=False, eval_metric=None, feature_types=None,\n",
       "              gamma=None, gpu_id=None, grow_policy=None, importance_type=None,\n",
       "              interaction_constraints=None, learning_rate=None, max_bin=None,\n",
       "              max_cat_threshold=None, max_cat_to_onehot=None,\n",
       "              max_delta_step=None, max_depth=None, max_leaves=None,\n",
       "              min_child_weight=None, missing=nan, monotone_constraints=None,\n",
       "              n_estimators=100, n_jobs=None, num_parallel_tree=None,\n",
       "              predictor=None, random_state=None, ...)</pre></div></div></div><div class=\"sk-serial\"><div class=\"sk-item\"><div class=\"sk-estimator sk-toggleable\"><input class=\"sk-toggleable__control sk-hidden--visually\" id=\"sk-estimator-id-3\" type=\"checkbox\" ><label for=\"sk-estimator-id-3\" class=\"sk-toggleable__label sk-toggleable__label-arrow\">XGBClassifier</label><div class=\"sk-toggleable__content\"><pre>XGBClassifier(base_score=None, booster=None, callbacks=None,\n",
       "              colsample_bylevel=None, colsample_bynode=None,\n",
       "              colsample_bytree=None, early_stopping_rounds=None,\n",
       "              enable_categorical=False, eval_metric=None, feature_types=None,\n",
       "              gamma=None, gpu_id=None, grow_policy=None, importance_type=None,\n",
       "              interaction_constraints=None, learning_rate=None, max_bin=None,\n",
       "              max_cat_threshold=None, max_cat_to_onehot=None,\n",
       "              max_delta_step=None, max_depth=None, max_leaves=None,\n",
       "              min_child_weight=None, missing=nan, monotone_constraints=None,\n",
       "              n_estimators=100, n_jobs=None, num_parallel_tree=None,\n",
       "              predictor=None, random_state=None, ...)</pre></div></div></div></div></div></div></div></div></div></div>"
      ],
      "text/plain": [
       "RandomizedSearchCV(cv=<zip object at 0x0000021B83C37240>,\n",
       "                   estimator=XGBClassifier(base_score=None, booster=None,\n",
       "                                           callbacks=None,\n",
       "                                           colsample_bylevel=None,\n",
       "                                           colsample_bynode=None,\n",
       "                                           colsample_bytree=None,\n",
       "                                           early_stopping_rounds=None,\n",
       "                                           enable_categorical=False,\n",
       "                                           eval_metric=None, feature_types=None,\n",
       "                                           gamma=None, gpu_id=None,\n",
       "                                           grow_policy=None,\n",
       "                                           importance_type=None,\n",
       "                                           interaction_...\n",
       "                                        'max_depth': array([ 2,  3,  4,  5,  6,  7,  8,  9, 10, 11, 12, 13, 14, 15, 16, 17, 18,\n",
       "       19, 20, 21, 22, 23, 24, 25, 26, 27, 28, 29, 30, 31, 32, 33, 34]),\n",
       "                                        'n_estimators': array([10, 11, 12, 13, 14, 15, 16, 17, 18, 19, 20, 21, 22, 23, 24, 25, 26,\n",
       "       27, 28, 29, 30, 31, 32, 33, 34, 35, 36, 37, 38, 39, 40, 41, 42, 43,\n",
       "       44, 45, 46, 47, 48, 49, 50, 51, 52, 53, 54, 55, 56, 57, 58, 59, 60,\n",
       "       61, 62, 63, 64, 65, 66, 67, 68, 69])},\n",
       "                   random_state=1, return_train_score=True,\n",
       "                   scoring=make_scorer(balanced_accuracy_score), verbose=3)"
      ]
     },
     "execution_count": 20,
     "metadata": {},
     "output_type": "execute_result"
    }
   ],
   "source": [
    "from sklearn.metrics import balanced_accuracy_score\n",
    "from sklearn.model_selection import TimeSeriesSplit, RandomizedSearchCV\n",
    "from sklearn.metrics import make_scorer\n",
    "from xgboost import XGBClassifier\n",
    "import matplotlib.pyplot as plt\n",
    "\n",
    "\n",
    "def split_data(X, train_size, valid_size, test_size):\n",
    "    X = X.set_index(np.arange(len(X)))\n",
    "    train_idx = []\n",
    "    valid_idx = []\n",
    "    for i in range(0, len(X)-train_size-valid_size-test_size, valid_size):\n",
    "        end_train = i+train_size\n",
    "        train_idx.append(X[i: end_train].index)    \n",
    "        \n",
    "        end_valid = end_train+valid_size     \n",
    "        valid_idx.append(X[end_train: end_valid].index)  \n",
    "             \n",
    "    test_idx = X[-test_size:].index\n",
    "    \n",
    "    return train_idx, valid_idx, test_idx\n",
    "\n",
    "# train_idx, valid_idx, test_idx = split_data(data, \n",
    "#                                             train_size=365, \n",
    "#                                             valid_size=60, \n",
    "#                                             test_size=60)\n",
    "\n",
    "\n",
    "test_size = 90\n",
    "\n",
    "tss = TimeSeriesSplit(n_splits=5, test_size=test_size, gap=1)\n",
    "\n",
    "train_idx = []\n",
    "valid_idx = []\n",
    "test_idx = data.iloc[:-test_size].index.tolist()\n",
    "for train, valid in tss.split(data.iloc[:-test_size]):\n",
    "    train_idx.append(train)\n",
    "    valid_idx.append(valid)\n",
    "\n",
    "param_grid = {'n_estimators':np.arange(10,70,1),\n",
    "              'max_depth':np.arange(2,35,1),\n",
    "              'gamma':np.linspace(0, 5, 15),\n",
    "              'alpha':np.arange(1,50,30),\n",
    "              'lambda':np.arange(1,50,30),\n",
    "              'learning_rate':np.arange(0.01, 0.5, 0.01),              \n",
    "            #   'min_child_weight':np.linspace(1,8,15),\n",
    "              'max_delta_step':np.linspace(0,1,15),\n",
    "              'grow_policy':['depthwise', 'lossguide']\n",
    "              }\n",
    "\n",
    "n_iter = 10\n",
    "class_cv = RandomizedSearchCV(XGBClassifier(), \n",
    "                              param_grid, \n",
    "                              n_jobs=-1, \n",
    "                              scoring=make_scorer(balanced_accuracy_score),\n",
    "                              random_state=1,\n",
    "                              return_train_score=True,\n",
    "                              verbose=3,\n",
    "                              cv=zip(train_idx, valid_idx),\n",
    "                              n_iter=n_iter)\n",
    "\n",
    "horizons = [2,7,21,28,60,90,180,364]\n",
    "data, new_predictors = crypto_prep.add_trend_season(data, horizons)\n",
    "predictors = data.columns[data.columns!='target']\n",
    "class_cv.fit(data[predictors], data['target'])"
   ]
  },
  {
   "cell_type": "code",
   "execution_count": 21,
   "metadata": {},
   "outputs": [
    {
     "data": {
      "image/png": "[encoded data removed]",
      "text/plain": [
       "<Figure size 1152x720 with 2 Axes>"
      ]
     },
     "metadata": {
      "needs_background": "light"
     },
     "output_type": "display_data"
    }
   ],
   "source": [
    "def select_best_models(tuner, std_error=0.05, mean_error=0.5):\n",
    "    mask_mean_test = tuner.cv_results_['mean_test_score'] >= mean_error\n",
    "    mask_mean_std  = tuner.cv_results_['std_test_score'] <= std_error\n",
    "\n",
    "    combined_mask = np.logical_and(mask_mean_test, mask_mean_std)\n",
    "    filtered_params = pd.DataFrame(tuner.cv_results_)\n",
    "    filtered_params = filtered_params[combined_mask]\n",
    "\n",
    "    return filtered_params\n",
    "\n",
    "def show_diagnostics(tuner):\n",
    "    fig,(ax1, ax2) = plt.subplots(2)\n",
    "    fig.set_figwidth(16)\n",
    "    fig.set_figheight(10)\n",
    "    \n",
    "    ax2.plot(tuner['mean_test_score'], label='mean', marker='o')\n",
    "    ax2.axhline(0.5, color='red')\n",
    "    ax1.plot(tuner['std_test_score'], label='std', color='orange', marker='o')\n",
    "    fig.legend(loc='center')\n",
    "    ax1.grid()\n",
    "    ax2.grid()\n",
    "    plt.show()\n",
    "    \n",
    "    \n",
    "best_models = select_best_models(class_cv, std_error=0.9, mean_error=0.54)\n",
    "show_diagnostics(best_models)"
   ]
  },
  {
   "cell_type": "code",
   "execution_count": 22,
   "metadata": {},
   "outputs": [],
   "source": [
    "# from xgboost import plot_importance\n",
    "\n",
    "\n",
    "# xgb_fea_imp = pd.DataFrame(tuned_xgb.get_booster().get_score(importance_type='gain').items(), \n",
    "#                            columns=['feature','importance']).sort_values('importance', ascending=False)\n",
    "\n",
    "# fig, ax = plt.subplots(1)\n",
    "# plot_importance(tuned_xgb, ax=ax, height=0.5)\n",
    "# fig.set_figwidth(14)\n",
    "# fig.set_figheight(12)"
   ]
  },
  {
   "cell_type": "code",
   "execution_count": 23,
   "metadata": {},
   "outputs": [],
   "source": [
    "best_params = best_models.iloc[1]['params'] \n",
    "\n",
    "pogchamp = {'n_estimators': 18,\n",
    "            'max_depth': 5,\n",
    "            'learning_rate': 0.13,\n",
    "            'lambda': 1,\n",
    "            'grow_policy': 'lossguide',\n",
    "            'gamma': 2.142857142857143,\n",
    "            'alpha': 1}\n",
    "\n",
    "pogchamp_manual = {'reg_alpha': 0.5999999999999998,\n",
    "                   'n_estimators': 15,\n",
    "                   'min_child_weight': 6.6667,\n",
    "                   'max_delta_step': 1.0708,\n",
    "                   'gamma': 2.916666666666667}\n",
    "\n",
    "\n",
    "# model1 = XGBClassifier(**pogchamp, n_jobs=-1)\n",
    "# model1.fit(data[predictors].iloc[:test_idx[0]], data['target'].iloc[:test_idx[0]])\n",
    "# score1 = balanced_accuracy_score(data['target'].iloc[test_idx], model1.predict(data[predictors].iloc[test_idx]))\n",
    "\n",
    "# model2 = XGBClassifier(**pogchamp_manual, n_jobs=-1)\n",
    "# model2.fit(data[predictors].iloc[:test_idx[0]], data['target'].iloc[:test_idx[0]])\n",
    "# score2 = balanced_accuracy_score(data['target'].iloc[test_idx], model2.predict(data[predictors].iloc[test_idx]))\n",
    "# print(score1), print(score2)"
   ]
  },
  {
   "cell_type": "code",
   "execution_count": 24,
   "metadata": {},
   "outputs": [],
   "source": [
    "# TODO: i have to test my model not only on my last 90 days\n",
    "# but few samples to ensure robustness to flexibility of data (during each year for ex)\n",
    "# here im looking only at window approach and it's not the best but ok.\n",
    "\n",
    "# TODOL: upload the best XGB model and return to tuning LDA\n",
    "\n",
    "def backtest(X, train_idx, valid_idx, predictors, **params):\n",
    "    X = X.copy()\n",
    "    all_preds = []\n",
    "    for train, test in zip(train_idx, valid_idx):\n",
    "        X_train = X.iloc[train].copy()\n",
    "        X_test  = X.iloc[test].copy()\n",
    "                \n",
    "        model = XGBClassifier(**params, n_jobs=-1)\n",
    "        model.fit(X_train[predictors], X_train['target'])\n",
    "        preds = balanced_accuracy_score(X_test['target'], model.predict(X_test[predictors]))\n",
    "        all_preds.append(preds)\n",
    "        \n",
    "    return all_preds\n",
    "\n",
    "\n",
    "very_cool = {'n_estimators': 48,\n",
    " 'max_depth': 14,\n",
    " 'learning_rate': 0.16,\n",
    " 'lambda': 1,\n",
    " 'grow_policy': 'lossguide',\n",
    " 'gamma': 5.0,\n",
    " 'alpha': 1}"
   ]
  },
  {
   "cell_type": "code",
   "execution_count": 25,
   "metadata": {},
   "outputs": [],
   "source": [
    "# best Model saver & loader pattern\n",
    "\n",
    "# cur_ts = int(datetime.now().timestamp())\n",
    "# latest_xgb.save_model(f'Models/CRYPTOmodels/xgbc_{cur_ts}.json')\n",
    "\n",
    "# default_c.load_model('Models/CRYPTOmodels/xgbc_1693759086.json')\n",
    "\n",
    "# model_features = pd.DataFrame(columns=default_c.feature_names_in_)\n",
    "# model_features.columns[model_features.columns.isin(data[predictors].columns)==False]"
   ]
  },
  {
   "cell_type": "code",
   "execution_count": 26,
   "metadata": {},
   "outputs": [
    {
     "data": {
      "text/plain": [
       "0.5925"
      ]
     },
     "execution_count": 26,
     "metadata": {},
     "output_type": "execute_result"
    }
   ],
   "source": [
    "best_model = XGBClassifier()\n",
    "best_model.load_model('Models/CRYPTOmodels/xgbc_1694187252.json')\n",
    "A = pd.DataFrame(data=zip(best_model.feature_names_in_, best_model.feature_importances_), columns=['feature','importance'])\n",
    "balanced_accuracy_score(data['target'].iloc[-90:], best_model.predict(data[predictors].iloc[-90:]))"
   ]
  },
  {
   "cell_type": "code",
   "execution_count": 27,
   "metadata": {},
   "outputs": [
    {
     "name": "stdout",
     "output_type": "stream",
     "text": [
      "0.9657691568136215\n"
     ]
    },
    {
     "data": {
      "image/png": "[encoded data removed]",
      "text/plain": [
       "<Figure size 864x1152 with 1 Axes>"
      ]
     },
     "metadata": {
      "needs_background": "light"
     },
     "output_type": "display_data"
    }
   ],
   "source": [
    "B = A.copy()\n",
    "# B = B[~B['feature'].str.contains('T_')]\n",
    "B = B[B['importance']>=0.01].sort_values(by='importance', ascending=False)\n",
    "\n",
    "fig, ax = plt.subplots()\n",
    "fig.set_figwidth(12)\n",
    "fig.set_figheight(16)\n",
    "ax.barh(B['feature'], B['importance'], edgecolor='black')\n",
    "ax.invert_yaxis()\n",
    "ax.margins(0,0)\n",
    "\n",
    "print(sum(B['importance']))\n",
    "plt.show()"
   ]
  },
  {
   "cell_type": "code",
   "execution_count": 28,
   "metadata": {},
   "outputs": [],
   "source": [
    "# from hyperopt import STATUS_OK, Trials, fmin, hp, tpe\n",
    "\n",
    "\n",
    "# space = {'max_depth': hp.quniform(\"max_depth\", 3, 18, 1),\n",
    "#          'gamma': hp.uniform ('gamma', 1,9),\n",
    "#          'reg_alpha' : hp.quniform('reg_alpha', 40,180,1),\n",
    "#          'reg_lambda' : hp.uniform('reg_lambda', 0,1),\n",
    "#          'colsample_bytree' : hp.uniform('colsample_bytree', 0.5,1),\n",
    "#          'min_child_weight' : hp.quniform('min_child_weight', 0, 10, 1),\n",
    "#          'n_estimators': 180,\n",
    "#          'seed': 0\n",
    "#     }"
   ]
  },
  {
   "cell_type": "code",
   "execution_count": 29,
   "metadata": {},
   "outputs": [],
   "source": [
    "# def objective(space, train_idx, valid_idx):\n",
    "#     clf = xgb.XGBClassifier(n_estimators =space['n_estimators'], \n",
    "#                             max_depth = int(space['max_depth']),\n",
    "#                             gamma = space['gamma'],\n",
    "#                             reg_alpha = int(space['reg_alpha']),\n",
    "#                             min_child_weight=int(space['min_child_weight']),\n",
    "#                             colsample_bytree=int(space['colsample_bytree']))\n",
    "    \n",
    "#     evaluation = [( X_train, y_train), ( X_test, y_test)]\n",
    "    \n",
    "#     clf.fit(X_train, y_train,\n",
    "#             eval_set=evaluation, eval_metric=\"auc\",\n",
    "#             early_stopping_rounds=10,verbose=False)\n",
    "    \n",
    "\n",
    "#     pred = clf.predict(X_test)\n",
    "#     accuracy = balanced_accuracy_score(y_test, pred>0.5)\n",
    "#     print (\"SCORE:\", accuracy)\n",
    "#     return {'loss': -accuracy, 'status': STATUS_OK }\n",
    "\n",
    "\n",
    "\n",
    "# train_idx = []\n",
    "# valid_idx = []\n",
    "# test_idx = data.iloc[:-test_size].index.tolist()\n",
    "\n",
    "# trials = Trials()\n",
    "# best_hyperparams = fmin(fn=objective,\n",
    "#                         space=space,\n",
    "#                         algo=tpe.suggest,\n",
    "#                         max_evals=100,\n",
    "#                         trials=trials)"
   ]
  },
  {
   "cell_type": "code",
   "execution_count": 30,
   "metadata": {},
   "outputs": [],
   "source": [
    "# print(\"The best hyperparameters are : \",\"\\n\")\n",
    "# print(best_hyperparams)"
   ]
  },
  {
   "cell_type": "code",
   "execution_count": 31,
   "metadata": {},
   "outputs": [],
   "source": [
    "# Loads lda model topics into html file, for web interface.\n",
    "\n",
    "\n",
    "# from pyLDAvis.gensim import prepare \n",
    "\n",
    "# p = prepare(lda_model, corpus, id2word)\n",
    "# pyLDAvis.save_html(p, 'lda.html')"
   ]
  },
  {
   "cell_type": "code",
   "execution_count": 32,
   "metadata": {},
   "outputs": [
    {
     "data": {
      "text/plain": [
       "(0.5247035573122529, 0.555)"
      ]
     },
     "execution_count": 32,
     "metadata": {},
     "output_type": "execute_result"
    }
   ],
   "source": [
    "# best_params = best_models.iloc[1]['params'] \n",
    "best_params = {'n_estimators': 13,\n",
    "               'min_child_weight': 1.0,\n",
    "               'max_depth': 7,\n",
    "               'max_delta_step': 0.3333333333333333,\n",
    "               'gamma': 0.0}\n",
    "\n",
    "# test_scores  = []\n",
    "# train_scores = []\n",
    "# for n_estimators in range(1,50):\n",
    "#     best_params['n_estimators'] = int(n_estimators)\n",
    "#     for max_depth in np.arange(1, 25, 1):\n",
    "#         best_params['max_depth'] = int(max_depth)\n",
    "#         model = XGBClassifier(**best_params, n_jobs=-1)\n",
    "#         model.fit(data[predictors].iloc[:test_idx[0]], data['target'].iloc[:test_idx[0]])\n",
    "#         test_score  = balanced_accuracy_score(data['target'].iloc[test_idx], model.predict(data[predictors].iloc[test_idx]))\n",
    "#         train_score = [model.score(data[predictors].iloc[train], data['target'].iloc[train]) for train in train_idx]\n",
    "        \n",
    "#         test_scores.append(test_score)\n",
    "#         train_scores.append(train_score)\n",
    "        \n",
    "#         if test_score >= 0.53:\n",
    "#             print(f'{n_estimators:<2}|{max_depth:<2} - {round(test_score, 4):<7} | {round(np.mean(train_score), 4)}')\n",
    "            \n",
    "    # test_scores  = np.array([val[0] for val in scores.values()])\n",
    "    # train_scores = np.array(train_scores) # look for overfitting, consider regularisation\n",
    "    \n",
    "mmdms = XGBClassifier(**{'n_estimators': 2,\n",
    "                         'max_depth': 10\n",
    "                         })\n",
    "\n",
    "mmdms.fit(data[predictors].iloc[:-180], data['target'].iloc[:-180])\n",
    "balanced_accuracy_score(data['target'].iloc[-180:-90], mmdms.predict(data[predictors].iloc[-180:-90])), balanced_accuracy_score(data['target'].iloc[-90:], mmdms.predict(data[predictors].iloc[-90:]))"
   ]
  },
  {
   "cell_type": "code",
   "execution_count": 33,
   "metadata": {},
   "outputs": [
    {
     "data": {
      "image/png": "[encoded data removed]",
      "text/plain": [
       "<Figure size 576x504 with 1 Axes>"
      ]
     },
     "metadata": {
      "needs_background": "light"
     },
     "output_type": "display_data"
    }
   ],
   "source": [
    "from sklearn.metrics import roc_auc_score, roc_curve\n",
    "\n",
    "\n",
    "X_test, y_test = data[best_model.feature_names_in_].iloc[-90:], data['target'].iloc[-90:]\n",
    "y_pred_proba = best_model.predict_proba(X_test)[::,1]\n",
    "fpr, tpr, _ = roc_curve(y_test,  y_pred_proba)\n",
    "auc = roc_auc_score(y_test, y_pred_proba)\n",
    "\n",
    "\n",
    "def plot_roc_curve(true_y, y_prob):\n",
    "    \"\"\"\n",
    "    plots the roc curve based of the probabilities\n",
    "    \"\"\"\n",
    "\n",
    "    fpr, tpr, thresholds = roc_curve(true_y, y_prob)\n",
    "    plt.figure(figsize=(8,7))\n",
    "    plt.plot(fpr, tpr, label=f'AUC={auc}')\n",
    "    plt.xlabel('False Positive Rate')\n",
    "    plt.ylabel('True Positive Rate')\n",
    "    plt.legend(loc=4)\n",
    "    \n",
    "plot_roc_curve(y_test, y_pred_proba)"
   ]
  },
  {
   "cell_type": "code",
   "execution_count": 34,
   "metadata": {},
   "outputs": [],
   "source": [
    "#TODO: make tracker for features that were dropped due to high sparsity in case of leaving threshold of 50% sparsity\n",
    "# for future model upgrading and adding new features."
   ]
  }
 ],
 "metadata": {
  "kernelspec": {
   "display_name": "Python 3",
   "language": "python",
   "name": "python3"
  },
  "language_info": {
   "codemirror_mode": {
    "name": "ipython",
    "version": 3
   },
   "file_extension": ".py",
   "mimetype": "text/x-python",
   "name": "python",
   "nbconvert_exporter": "python",
   "pygments_lexer": "ipython3",
   "version": "3.9.7"
  },
  "orig_nbformat": 4
 },
 "nbformat": 4,
 "nbformat_minor": 2
}
