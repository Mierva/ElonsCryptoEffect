{
 "cells": [
  {
   "attachments": {},
   "cell_type": "markdown",
   "metadata": {
    "tags": []
   },
   "source": [
    "# Fetching data from [cryptocompare.com](https://www.cryptocompare.com)"
   ]
  },
  {
   "cell_type": "code",
   "execution_count": 1,
   "metadata": {},
   "outputs": [],
   "source": [
    "import requests\n",
    "\n",
    "class CryptoApi:\n",
    "    def __init__(self) -> None:\n",
    "        self.mother_endpoint = \"https://min-api.cryptocompare.com/data\"\n",
    "\n",
    "        with open('token.txt', 'r') as f:\n",
    "            self.TOKEN = f.readline()\n",
    "\n",
    "        self.HEADER = {'Authorization': self.TOKEN,\n",
    "                       \"Content-Type\": 'application/json'}\n",
    "\n",
    "        endpoint = f'{self.mother_endpoint}/v2/histo{period}?fsym={crypto}&tsym={currency}&limit={period_count}'\n",
    "        response = requests.get(endpoint, params={'allData':allData}, headers=self.HEADER)\n",
    "        \n",
    "        return response.json()\n",
    "    \n",
    "    def execute_custom_getrequest(self, endpoint:str):\n",
    "        return requests.get(endpoint, headers=self.HEADER)\n",
    "    \n",
    "data = CryptoApi().get_data('btc','usd','day',29)"
   ]
  },
  {
   "cell_type": "code",
   "execution_count": 28,
   "metadata": {},
   "outputs": [
    {
     "data": {
      "text/plain": [
       "{'Response': 'Success',\n",
       " 'Message': '',\n",
       " 'HasWarning': False,\n",
       " 'Type': 100,\n",
       " 'RateLimit': {},\n",
       " 'Data': {'Aggregated': False,\n",
       "  'TimeFrom': 1679961600,\n",
       "  'TimeTo': 1680048000,\n",
       "  'Data': [{'time': 1679961600,\n",
       "    'high': 27501.44,\n",
       "    'low': 26660.19,\n",
       "    'open': 27145.09,\n",
       "    'volumefrom': 38686.66,\n",
       "    'volumeto': 1046551233.93,\n",
       "    'close': 27274.9,\n",
       "    'conversionType': 'direct',\n",
       "    'conversionSymbol': ''},\n",
       "   {'time': 1680048000,\n",
       "    'high': 28640.99,\n",
       "    'low': 27261.75,\n",
       "    'open': 27274.9,\n",
       "    'volumefrom': 29355.13,\n",
       "    'volumeto': 822534043.78,\n",
       "    'close': 28368.82,\n",
       "    'conversionType': 'direct',\n",
       "    'conversionSymbol': ''}]}}"
      ]
     },
     "execution_count": 28,
     "metadata": {},
     "output_type": "execute_result"
    }
   ],
   "source": [
    "data"
   ]
  },
  {
   "cell_type": "code",
   "execution_count": 32,
   "metadata": {},
   "outputs": [
    {
     "data": {
      "text/plain": [
       "197"
      ]
     },
     "execution_count": 32,
     "metadata": {},
     "output_type": "execute_result"
    }
   ],
   "source": [
    "mystr = '''I plan to use Twitter data for my pet-project and answer the question whether Elon Musk's tweets have an effect on cryptocurrencies, this is some kind of a research as well\n",
    "not for commercial use, '''\n",
    "\n",
    "len(mystr)"
   ]
  },
  {
   "cell_type": "code",
   "execution_count": 21,
   "metadata": {},
   "outputs": [
    {
     "data": {
      "text/plain": [
       "'from datetime import datetime\\n\\ndatetime.fromtimestamp(1695054322)'"
      ]
     },
     "execution_count": 21,
     "metadata": {},
     "output_type": "execute_result"
    }
   ],
   "source": [
    "'''from datetime import datetime\n",
    "\n",
    "    def get_data(self, crypto:str, currency:str, period:str, period_count:int, allData=0):\n",
    "        '''Returns crypto summary for a given period in specified currency.\n",
    "\n",
    "        Args:\n",
    "            crypto: str\n",
    "                BTC/ETH/DOGE etc.\n",
    "            currency: str\n",
    "                USD/EUR/UAH etc.\n",
    "            period: str \n",
    "                day/hour/minute.\n",
    "            period_count: int\n",
    "                last n of a period (n days)\n",
    "                n = 1 returns revious day/hour/minute + current\n",
    "            allData: int\n",
    "                bool doen't work\n",
    "                1 - get all records;\n",
    "                0 - get specified amount of period_count.\n",
    "        Returns:\n",
    "            dict: json containing request's response.\n",
    "        '''        \n",
    "\n",
    "        endpoint = f'{self.mother_endpoint}/v2/histo{period}?fsym={crypto}&tsym={currency}&limit={period_count}'\n",
    "        response = requests.get(endpoint, params={'allData':allData}, headers=self.HEADER)\n",
    "        \n",
    "        return response.json()\n",
    "    \n",
    "    def execute_custom_getrequest(self, endpoint:str):\n",
    "        return requests.get(endpoint, headers=self.HEADER)\n",
    "    \n",
    "data = CryptoApi().get_data('btc','usd','day',29)"
   ]
  },
  {
   "cell_type": "code",
   "execution_count": 2,
   "metadata": {},
   "outputs": [
    {
     "data": {
      "text/plain": [
       "'from datetime import datetime\\n\\ndatetime.fromtimestamp(1695054322)'"
      ]
     },
     "execution_count": 2,
     "metadata": {},
     "output_type": "execute_result"
    }
   ],
   "source": [
    "'''from datetime import datetime\n",
    "\n",
    "datetime.fromtimestamp(1695054322)'''"
   ]
  }
 ],
 "metadata": {
  "kernelspec": {
   "display_name": "Python 3",
   "language": "python",
   "name": "python3"
  },
  "language_info": {
   "codemirror_mode": {
    "name": "ipython",
    "version": 3
   },
   "file_extension": ".py",
   "mimetype": "text/x-python",
   "name": "python",
   "nbconvert_exporter": "python",
   "pygments_lexer": "ipython3",
   "version": "3.9.7"
  },
  "orig_nbformat": 4,
  "vscode": {
   "interpreter": {
    "hash": "7a8ccd63795149f5b6a64cd874946f7ab87af296b69e75f89a662bb3c1cf6dbc"
   }
  }
 },
 "nbformat": 4,
 "nbformat_minor": 2
}
