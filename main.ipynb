{
 "cells": [
  {
   "attachments": {},
   "cell_type": "markdown",
   "metadata": {
    "tags": []
   },
   "source": [
    "# Fetching data from [cryptocompare.com](https://www.cryptocompare.com)"
   ]
  },
  {
   "cell_type": "code",
   "execution_count": 1,
   "metadata": {},
   "outputs": [],
   "source": [
    "import requests\n",
    "\n",
    "class CryptoApi:\n",
    "    def __init__(self) -> None:\n",
    "        self.mother_endpoint = \"https://min-api.cryptocompare.com/data\"\n",
    "\n",
    "        with open('token.txt', 'r') as f:\n",
    "            self.TOKEN = f.readline()\n",
    "\n",
    "        self.HEADER = {'Authorization': self.TOKEN,\n",
    "                       \"Content-Type\": 'application/json'}\n",
    "\n",
    "\n",
    "    def get_data(self, crypto:str, currency:str, period:str, period_count:int, allData=0):\n",
    "        '''Returns crypto summary for a given period in specified currency.\n",
    "\n",
    "        Args:\n",
    "            crypto: str\n",
    "                BTC/ETH/DOGE etc.\n",
    "            currency: str\n",
    "                USD/EUR/UAH etc.\n",
    "            period: str \n",
    "                day/hour/minute.\n",
    "            period_count: int\n",
    "                last n of a period (n days)\n",
    "                n = 1 returns revious day/hour/minute + current\n",
    "            allData: int\n",
    "                bool doen't work\n",
    "                1 - get all records;\n",
    "                0 - get specified amount of period_count.\n",
    "        Returns:\n",
    "            dict: json containing request's response.\n",
    "        '''        \n",
    "\n",
    "        endpoint = f'{self.mother_endpoint}/v2/histo{period}?fsym={crypto}&tsym={currency}&limit={period_count}'\n",
    "        response = requests.get(endpoint, params={'allData':allData}, headers=self.HEADER)\n",
    "        \n",
    "        return response.json()\n",
    "    \n",
    "    def execute_custom_getrequest(self, endpoint:str):\n",
    "        return requests.get(endpoint, headers=self.HEADER)\n",
    "    \n",
    "data = CryptoApi().get_data('btc','usd','day',29)"
   ]
  },
  {
   "cell_type": "code",
   "execution_count": 2,
   "metadata": {},
   "outputs": [
    {
     "data": {
      "text/plain": [
       "'from datetime import datetime\\n\\ndatetime.fromtimestamp(1695054322)'"
      ]
     },
     "execution_count": 2,
     "metadata": {},
     "output_type": "execute_result"
    }
   ],
   "source": [
    "'''from datetime import datetime\n",
    "\n",
    "datetime.fromtimestamp(1695054322)'''"
   ]
  }
 ],
 "metadata": {
  "kernelspec": {
   "display_name": "Python 3",
   "language": "python",
   "name": "python3"
  },
  "language_info": {
   "codemirror_mode": {
    "name": "ipython",
    "version": 3
   },
   "file_extension": ".py",
   "mimetype": "text/x-python",
   "name": "python",
   "nbconvert_exporter": "python",
   "pygments_lexer": "ipython3",
   "version": "3.9.7"
  },
  "orig_nbformat": 4,
  "vscode": {
   "interpreter": {
    "hash": "7a8ccd63795149f5b6a64cd874946f7ab87af296b69e75f89a662bb3c1cf6dbc"
   }
  }
 },
 "nbformat": 4,
 "nbformat_minor": 2
}
