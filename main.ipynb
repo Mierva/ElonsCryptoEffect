{
 "cells": [
  {
   "attachments": {},
   "cell_type": "markdown",
   "metadata": {
    "tags": []
   },
   "source": [
    "# Fetching crypto and tweets data."
   ]
  },
  {
   "cell_type": "code",
   "execution_count": 2,
   "metadata": {},
   "outputs": [],
   "source": [
    "from sklearn.preprocessing import OrdinalEncoder\n",
    "from crypto_api import CryptoApi\n",
    "import pandas as pd\n",
    "import numpy as np\n",
    "import re\n",
    "\n",
    "\n",
    "btc_df = pd.read_csv(r'Data\\btc_data.csv',usecols=lambda x: x != \"Unnamed: 0\")"
   ]
  },
  {
   "attachments": {},
   "cell_type": "markdown",
   "metadata": {},
   "source": [
    "# Analysis of tweets"
   ]
  },
  {
   "cell_type": "code",
   "execution_count": 3,
   "metadata": {},
   "outputs": [],
   "source": [
    "'''\n",
    "TODO: GENERAL DATA TASKS:\n",
    "0) find a way to deal with multiple tweets for a day\n",
    "1) merge 2 datasets into \n",
    "2) imput missing data, maybe try interpolation or expectation maximization\n",
    "    2.1) compare with mean, median imput methods\n",
    "3) ivestigate relationship within data, maybe correlation matrix etc\n",
    "'''\n",
    "\n",
    "tweets_df = pd.read_csv(r'Data/elon_tweets.csv', index_col=0)\n",
    "tweets_df['date'] = pd.to_datetime(tweets_df['date'])\n",
    "                                                \n",
    "tweets_df = (tweets_df\n",
    "             .dropna(axis=1, how='all')\n",
    "             .drop(['vibe','cashtags'], axis=1)) # 1 and 18 notna values respectively  "
   ]
  },
  {
   "attachments": {},
   "cell_type": "markdown",
   "metadata": {},
   "source": [
    "## Dealing with sparse columns"
   ]
  },
  {
   "cell_type": "code",
   "execution_count": 4,
   "metadata": {},
   "outputs": [],
   "source": [
    "sparse_cols = tweets_df.columns[tweets_df.notnull().mean() < 1.0].values.copy()\n",
    "\n",
    "mod_tweets_df = tweets_df.copy()\n",
    "mod_tweets_df = (mod_tweets_df[mod_tweets_df['lang']=='en']\n",
    "                 .drop(['id','url','source','sourceUrl'], axis=1)                 \n",
    "                 .reset_index(drop=True)\n",
    "                 .copy())\n",
    "\n",
    "mod_tweets_df = mod_tweets_df.drop(['lang'], axis=1)"
   ]
  },
  {
   "attachments": {},
   "cell_type": "markdown",
   "metadata": {},
   "source": [
    "## Data cleaning and preprocessing"
   ]
  },
  {
   "cell_type": "code",
   "execution_count": 5,
   "metadata": {},
   "outputs": [],
   "source": [
    "encoder = OrdinalEncoder()\n",
    "mod_tweets_df['sourceLabel_encoded'] = encoder.fit_transform(mod_tweets_df['sourceLabel'].values.reshape(-1, 1))\n",
    "mod_tweets_df['isReplied']   = [0 if type(tweet)==float else 1 for tweet in mod_tweets_df['inReplyToUser']]\n",
    "mod_tweets_df['isMentioned'] = [0 if type(tweet)==float else 1 for tweet in mod_tweets_df['mentionedUsers']]\n",
    "\n",
    "#mod_tweets_df = mod_tweets_df.drop(['sourceLabel','inReplyToUser','mentionedUsers'], axis=1)\n",
    "\n",
    "\n",
    "def extract_dict(line: str, prepare_to_df: False):\n",
    "    \"\"\"Extracts data from a dict represented as string and makes it a dict.\n",
    "\n",
    "    ## Parameters:\n",
    "        line (str): row of a Series/DataFrame to be preprocessed.\n",
    "        prepare_to_df (bool): prepares extracted dict to be wrapped into DataFrame.\n",
    "\n",
    "    ## Returns:\n",
    "        dict: extracted dict from string.\n",
    "    \"\"\"    \n",
    "\n",
    "    extracted_content = dict(re.findall(r\"'(\\w+)': '?({.*}|datetime.datetime\\(.*\\)|[\\w\\d/:\\. ]*)'?\", line))\n",
    "    \n",
    "    # Wraps dict values into lists to be easily represented as a DataFrame row.\n",
    "    if prepare_to_df:\n",
    "        for key,value in extracted_content.items():\n",
    "            if value == '':\n",
    "                extracted_content[key] = [None]\n",
    "            else:\n",
    "                extracted_content[key] = value\n",
    "        \n",
    "    return extracted_content\n",
    "\n",
    "\n",
    "new_df = mod_tweets_df.copy()     \n",
    "extracted_df = (pd.DataFrame([*mod_tweets_df['user']\n",
    "                              .apply(lambda x: extract_dict(x, True))])\n",
    "                )\n",
    "\n",
    "new_df = (pd.concat([new_df, extracted_df], axis=1)\n",
    "            .drop(['user','username','id','displayname','verified','created',\n",
    "                    'location','protected','profileImageUrl','profileBannerUrl',\n",
    "                    'rawDescription','renderedDescription','favouritesCount',\n",
    "                    'friendsCount','mediaCount','statusesCount'], axis=1))"
   ]
  },
  {
   "cell_type": "code",
   "execution_count": 6,
   "metadata": {},
   "outputs": [],
   "source": [
    "# Converting columns containing numbers to int after extraction.\n",
    "for column in new_df:\n",
    "    if 'Count' in column:\n",
    "        new_df[column] = new_df[column].astype('Int64').copy()"
   ]
  },
  {
   "cell_type": "code",
   "execution_count": 7,
   "metadata": {},
   "outputs": [],
   "source": [
    "new_df[['rawContent','isReplied','isMentioned']].query(\"rawContent.str.contains('@')\")\n",
    "\n",
    "new_df['mentionsCount'] = new_df['rawContent'].str.count(r'@[\\w\\d]+')\n",
    "new_df['mentions'] = new_df['rawContent'].apply(lambda x : re.findall(r'(@[^\\s]+)', x))\n",
    "\n",
    "count = 0\n",
    "for a,b in new_df[['mentionsCount','mentions']].values:\n",
    "    if a==len(b):\n",
    "        count +=1 \n",
    "print(count==len(new_df))\n",
    "\n",
    "new_df['charCount'] = new_df['rawContent'].apply(lambda x: len(x))\n",
    "new_df = new_df.drop('descriptionLinks', axis=1)"
   ]
  },
  {
   "cell_type": "code",
   "execution_count": 10,
   "metadata": {},
   "outputs": [
    {
     "data": {
      "text/plain": [
       "'{\\'url\\': \\'https://twitter.com/ggreenwald/status/1625871270737809408\\', \\'date\\': datetime.datetime(2023, 2, 15, 14, 54, 52, tzinfo=datetime.timezone.utc), \\'rawContent\\': \"The corporate media\\'s ability to -- overnight -- turn anyone who dissents in anyway into some sort of fascist or even Hitler-like figure, and then have millions of their followers go around mindlessly repeating it, is both impressive and chilling:\", \\'renderedContent\\': \"The corporate media\\'s ability to -- overnight -- turn anyone who dissents in anyway into some sort of fascist or even Hitler-like figure, and then have millions of their followers go around mindlessly repeating it, is both impressive and chilling:\", \\'id\\': 1625871270737809408, \\'user\\': {\\'username\\': \\'ggreenwald\\', \\'id\\': 16076032, \\'displayname\\': \\'Glenn Greenwald\\', \\'rawDescription\\': \\'Journalist; Author; Host, @SystemUpdate_; Columnist, @Folha; Co-Founder: The Intercept, @TheInterceptBr; @abrigo_hope, @FreedomofPress, @ongcriadefavela. Vegan.\\', \\'renderedDescription\\': \\'Journalist; Author; Host, @SystemUpdate_; Columnist, @Folha; Co-Founder: The Intercept, @TheInterceptBr; @abrigo_hope, @FreedomofPress, @ongcriadefavela. Vegan.\\', \\'descriptionLinks\\': None, \\'verified\\': True, \\'created\\': datetime.datetime(2008, 9, 1, 3, 13, 32, tzinfo=datetime.timezone.utc), \\'followersCount\\': 2005848, \\'friendsCount\\': 981, \\'statusesCount\\': 89311, \\'favouritesCount\\': 20442, \\'listedCount\\': 22110, \\'mediaCount\\': 10051, \\'location\\': \\'GlennGreenwald@gmail.com\\', \\'protected\\': False, \\'link\\': {\\'text\\': \\'linktr.ee/glenngreenwald\\', \\'url\\': \\'https://linktr.ee/glenngreenwald\\', \\'tcourl\\': \\'https://t.co/rw7Uw16ZvA\\', \\'indices\\': (0, 23)}, \\'profileImageUrl\\': \\'https://pbs.twimg.com/profile_images/1092582027994509312/cpYWuYI9_normal.jpg\\', \\'profileBannerUrl\\': \\'https://pbs.twimg.com/profile_banners/16076032/1670619705\\', \\'label\\': None}, \\'replyCount\\': 1814, \\'retweetCount\\': 8513, \\'likeCount\\': 40283, \\'quoteCount\\': 585, \\'conversationId\\': 1625871270737809408, \\'lang\\': \\'en\\', \\'source\\': \\'<a href=\"https://mobile.twitter.com\" rel=\"nofollow\">Twitter Web App</a>\\', \\'sourceUrl\\': \\'https://mobile.twitter.com\\', \\'sourceLabel\\': \\'Twitter Web App\\', \\'links\\': None, \\'media\\': None, \\'retweetedTweet\\': None, \\'quotedTweet\\': None, \\'inReplyToTweetId\\': None, \\'inReplyToUser\\': None, \\'mentionedUsers\\': None, \\'coordinates\\': None, \\'place\\': None, \\'hashtags\\': None, \\'cashtags\\': None, \\'card\\': None, \\'viewCount\\': 76140755, \\'vibe\\': None}'"
      ]
     },
     "execution_count": 10,
     "metadata": {},
     "output_type": "execute_result"
    }
   ],
   "source": [
    "#links = tweets_df[tweets_df.columns[tweets_df.columns.isin(new_df.columns)==False]]['links'].value_counts().copy()\n",
    "\n",
    "tweets_df[tweets_df['rawContent']=='True']['quotedTweet'].iloc[0]"
   ]
  },
  {
   "attachments": {},
   "cell_type": "markdown",
   "metadata": {},
   "source": [
    "# Model Bulding"
   ]
  },
  {
   "cell_type": "code",
   "execution_count": 11,
   "metadata": {},
   "outputs": [],
   "source": [
    "from sklearn.feature_extraction.text import TfidfVectorizer\n",
    "from gensim import corpora, matutils, utils, models\n",
    "from gensim.models import ldamodel, ldamulticore\n",
    "import spacy\n",
    "\n",
    "\n",
    "def lemmatization(nlp, texts, allowed_postags=['NOUN', 'ADJ', 'VERB', 'ADV']):\n",
    "    texts_out = []\n",
    "    for text in texts:\n",
    "        # TODO: consider using nlp.pipe which should be faster\n",
    "        doc = nlp(text)\n",
    "        cleaned_text = []\n",
    "        for token in doc:\n",
    "            if token.ent_type_ != 'URL' and not token.is_stop and token.pos_ in allowed_postags:\n",
    "                cleaned_text.append(token.lemma_)\n",
    "        final = ' '.join(cleaned_text)\n",
    "        texts_out.append(final)\n",
    "\n",
    "    return texts_out\n",
    "\n",
    "\n",
    "nlp = spacy.load('en_core_web_sm', disable=['parser', 'ner'])\n",
    "url_pattern = [{\"label\": \"URL\",\n",
    "                \"pattern\": [{\"LIKE_URL\": True}]}]\n",
    "\n",
    "ruler = nlp.add_pipe('entity_ruler', before='ner')\n",
    "ruler.add_patterns(url_pattern)\n",
    "\n",
    "\n",
    "lemmatized_texts = lemmatization(nlp, new_df['rawContent'])"
   ]
  },
  {
   "cell_type": "code",
   "execution_count": 12,
   "metadata": {},
   "outputs": [],
   "source": [
    "def gen_words(texts):\n",
    "    final = []\n",
    "    for text in texts:\n",
    "        new = utils.simple_preprocess(text)\n",
    "        final.append(new)\n",
    "    return (final)\n",
    "\n",
    "data_words = gen_words(lemmatized_texts)"
   ]
  },
  {
   "cell_type": "code",
   "execution_count": 13,
   "metadata": {},
   "outputs": [],
   "source": [
    "#bi-tri grams\n",
    "\n",
    "bigrams_phrases  = models.Phrases(data_words, min_count=3, threshold=50)\n",
    "trigrams_phrases = models.Phrases(bigrams_phrases[data_words], threshold=50)\n",
    "\n",
    "bigram  = models.phrases.Phraser(bigrams_phrases)\n",
    "trigram = models.phrases.Phraser(trigrams_phrases)\n",
    "\n",
    "def make_bigrams(texts):\n",
    "    return [bigram[doc] for doc in texts]\n",
    "\n",
    "def make_trigram(texts):\n",
    "    return [trigram[bigram[doc]] for doc in texts]\n",
    "\n",
    "data_bigrams = make_bigrams(data_words)\n",
    "data_bigrams_trigrams = make_trigram(data_bigrams)"
   ]
  },
  {
   "cell_type": "code",
   "execution_count": 31,
   "metadata": {},
   "outputs": [],
   "source": [
    "id2word = corpora.Dictionary(data_bigrams_trigrams)\n",
    "texts = data_bigrams_trigrams\n",
    "corpus = [id2word.doc2bow(text) for text in texts]\n",
    "\n",
    "#tfidf = models.TfidfModel(corpus, id2word=id2word)\n",
    "# tfidf_vectorizer = TfidfVectorizer(max_df=0.6,\n",
    "#                                    min_df=5,\n",
    "#                                    ngram_range=(1,3))\n",
    "# tfidf_matrix = tfidf_vectorizer.fit_transform(lemmatized_texts)\n",
    "\n",
    "# id2word = dict((v, k) for k, v in tfidf_vectorizer.vocabulary_.items())\n",
    "# corpus = matutils.Sparse2Corpus(tfidf_matrix.T)"
   ]
  },
  {
   "cell_type": "code",
   "execution_count": 32,
   "metadata": {},
   "outputs": [],
   "source": [
    "# low_value = 0.03\n",
    "# words = []\n",
    "# words_missing_in_tfidf = []\n",
    "\n",
    "# for i in range(0, len(corpus)):\n",
    "#     bow = corpus[i]\n",
    "#     low_value_words = []\n",
    "#     tfidf_ids = [id for id,_ in tfidf[bow]]\n",
    "#     bow_idf = [id for id,_ in bow]\n",
    "#     low_value_words = [id for id, value in tfidf[bow] if value < low_value]\n",
    "#     drops = low_value_words+words_missing_in_tfidf\n",
    "    \n",
    "#     for item in drops:\n",
    "#         words.append(id2word[item])\n",
    "    \n",
    "#     # words with tfidf score of 0 will be missing\n",
    "#     words_missing_in_tfidf = [id for id in bow_idf if id not in tfidf_ids]\n",
    "#     new_bow = [b for b in bow if b[0] not in low_value_words and b[0] not in words_missing_in_tfidf]\n",
    "#     corpus[i] = new_bow"
   ]
  },
  {
   "cell_type": "code",
   "execution_count": 33,
   "metadata": {},
   "outputs": [],
   "source": [
    "# id2word = corpora.Dictionary(data_words)\n",
    "# corpus = [id2word.doc2bow(text) for text in data_words]"
   ]
  },
  {
   "cell_type": "code",
   "execution_count": 52,
   "metadata": {},
   "outputs": [
    {
     "name": "stdout",
     "output_type": "stream",
     "text": [
      "# Topics 2: 0.29838429665580796\n",
      "# Topics 3: 0.2737927155265198\n",
      "# Topics 4: 0.30054867545588815\n",
      "# Topics 5: 0.3143167377399931\n",
      "# Topics 6: 0.34460952430919933\n",
      "# Topics 7: 0.33058784629640847\n",
      "# Topics 8: 0.3338876827563725\n",
      "# Topics 9: 0.3213391731361797\n",
      "# Topics 10: 0.3237173093568393\n",
      "# Topics 11: 0.34941209281433816\n",
      "# Topics 12: 0.33010255407911576\n",
      "# Topics 13: 0.32686708121508684\n",
      "# Topics 14: 0.3436922137793172\n",
      "# Topics 15: 0.33514415561255906\n",
      "# Topics 16: 0.3356972468326513\n",
      "# Topics 17: 0.3548690380037537\n",
      "# Topics 18: 0.3324707993131123\n",
      "# Topics 19: 0.35808868619732975\n",
      "# Topics 20: 0.3270486191543489\n",
      "# Topics 21: 0.35432645863487544\n",
      "# Topics 22: 0.36389307180815467\n",
      "# Topics 23: 0.37011801006781225\n",
      "# Topics 24: 0.34399791466505486\n"
     ]
    }
   ],
   "source": [
    "from gensim.models import CoherenceModel, LdaMulticore\n",
    "\n",
    "\n",
    "def bayesian_tuning(model, params_grid: dict, texts, verbose=False):\n",
    "    # TODO: implement bayesian tuning\n",
    "    models_scores = {}\n",
    "    for i in range(5,100,5):\n",
    "        lda_model = model(corpus=params_grid['corpus'],\n",
    "                          num_topics=i,\n",
    "                          id2word=params_grid['id2word'],\n",
    "                          random_state=1,\n",
    "                          passes=10,\n",
    "                          per_word_topics=True)\n",
    "        \n",
    "        coherence_model_lda = CoherenceModel(model=lda_model, \n",
    "                                             texts=texts, \n",
    "                                             corpus=params_grid['corpus'], \n",
    "                                             dictionary=params_grid['id2word']\n",
    "                                             )\n",
    "        coherence_score = coherence_model_lda.get_coherence()\n",
    "        \n",
    "        models_scores.update({lda_model: coherence_score})\n",
    "        \n",
    "        if verbose:\n",
    "            print(f'Topics {i:<3}: {coherence_score}')\n",
    "    \n",
    "    return models_scores\n",
    "\n",
    "\n",
    "params_grid = {'corpus':corpus,  \n",
    "               'num_topics':10, \n",
    "               'id2word':id2word, \n",
    "               'random_state':1, \n",
    "               'update_every':1, \n",
    "               'chunksize':3000, \n",
    "               'passes':2}\n",
    "\n",
    "lda_models_scores = bayesian_tuning(LdaMulticore, params_grid, texts, verbose=True)"
   ]
  },
  {
   "cell_type": "code",
   "execution_count": null,
   "metadata": {},
   "outputs": [],
   "source": []
  },
  {
   "cell_type": "code",
   "execution_count": null,
   "metadata": {},
   "outputs": [
    {
     "data": {
      "text/html": [
       "\n",
       "<link rel=\"stylesheet\" type=\"text/css\" href=\"https://cdn.jsdelivr.net/gh/bmabey/pyLDAvis@3.4.0/pyLDAvis/js/ldavis.v1.0.0.css\">\n",
       "\n",
       "\n",
       "<div id=\"ldavis_el1012421893983898088827930876\" style=\"background-color:white;\"></div>\n",
       "<script type=\"text/javascript\">\n",
       "\n",
       "var ldavis_el1012421893983898088827930876_data = {\"mdsDat\": {\"x\": [-0.056966833232492964, -0.11395608246025382, -0.04419197360052775, 0.21511488929327457], \"y\": [-0.12502127734089938, 0.1859105610430062, -0.10474757276866295, 0.043858289066556415], \"topics\": [1, 2, 3, 4], \"cluster\": [1, 1, 1, 1], \"Freq\": [28.75698146719578, 25.06067519108443, 24.744542788636714, 21.437800553083072]}, \"tinfo\": {\"Term\": [\"true\", \"exactly\", \"account\", \"time\", \"good\", \"billym\", \"incredible\", \"question\", \"tweet\", \"interesting\", \"add\", \"thank\", \"great\", \"lol\", \"real\", \"point\", \"launch\", \"starship\", \"agree\", \"bad\", \"correct\", \"accurate\", \"nice\", \"work\", \"love\", \"twitter\", \"medium\", \"sure\", \"sound\", \"greatly\", \"account\", \"fine\", \"exactly\", \"propaganda\", \"suspend\", \"information\", \"away\", \"lie\", \"amazing\", \"decision\", \"arm\", \"platform\", \"example\", \"exception\", \"employee\", \"sugar\", \"walk\", \"date\", \"eye\", \"training\", \"subscription\", \"invite\", \"successful\", \"weird\", \"biological\", \"irony\", \"russian\", \"office\", \"regulatory_approval\", \"online\", \"remove\", \"riley_gaine\", \"verification\", \"bot\", \"donut\", \"concern\", \"evil\", \"verify\", \"attempt\", \"drjbhattacharya\", \"lead\", \"let\", \"early\", \"factory\", \"say\", \"twitter\", \"day\", \"work\", \"week\", \"hard\", \"start\", \"user\", \"team\", \"maybe\", \"absolutely\", \"super\", \"lose\", \"time\", \"production\", \"tell\", \"probably\", \"people\", \"get\", \"think\", \"want\", \"need\", \"actually\", \"wholemarsblog\", \"well\", \"right\", \"fast\", \"greatly\", \"open_source\", \"true\", \"recommendation\", \"thread\", \"subsidy\", \"legacy\", \"fundamental\", \"alien\", \"irrelevant\", \"alive\", \"lack\", \"draw\", \"dollar\", \"corruption\", \"engage\", \"fashion\", \"accurate\", \"agree\", \"direction\", \"offer\", \"forever\", \"sight\", \"publication\", \"house\", \"pyramid\", \"content\", \"accord\", \"cancel\", \"talented\", \"eat\", \"past\", \"love\", \"question\", \"talent\", \"point\", \"seriously\", \"list\", \"come_soon\", \"demand\", \"upside_pyramid\", \"bad\", \"billym\", \"good\", \"awesome\", \"future\", \"level\", \"company\", \"great\", \"real\", \"note\", \"problem\", \"risk\", \"stop\", \"car\", \"think\", \"post\", \"feel\", \"people\", \"titterdaily\", \"important\", \"change\", \"wholemarsblog\", \"try\", \"nice\", \"delete\", \"principle\", \"video\", \"mess\", \"respect\", \"ignore\", \"feed\", \"receive\", \"double\", \"epic\", \"kind\", \"org\", \"oversee\", \"evasteslasplaid\", \"miss\", \"compute\", \"downtown\", \"slight\", \"liv_boeree\", \"approve\", \"investment\", \"replace\", \"maker\", \"political\", \"credit\", \"flamethrower\", \"mental\", \"proportionate\", \"widely\", \"western\", \"block\", \"correct\", \"story\", \"large\", \"apply\", \"thank\", \"claim\", \"download\", \"age\", \"sure\", \"tweet\", \"happen\", \"medium\", \"go\", \"engine\", \"time\", \"fact\", \"come\", \"year\", \"write\", \"high\", \"know\", \"need\", \"wholemarsblog\", \"rocket\", \"have\", \"actually\", \"look\", \"way\", \"good\", \"long\", \"case\", \"titterdaily\", \"incredible\", \"lol\", \"janeidyeve\", \"trust\", \"influence\", \"app\", \"insurance\", \"jacket\", \"headline\", \"left\", \"dogeofficialceo\", \"industry\", \"individual\", \"golden\", \"common\", \"importantly\", \"meme\", \"essentially\", \"propellant\", \"austen\", \"community\", \"reasonable\", \"effect\", \"manufacturing\", \"contribute\", \"multiple\", \"nature\", \"algorithm\", \"argument\", \"concept\", \"trend\", \"suggestion\", \"interesting\", \"dumb\", \"cool\", \"heavy\", \"worldandscience\", \"sound\", \"path\", \"starship\", \"add\", \"pretty\", \"ppathole\", \"city\", \"human\", \"launch\", \"big\", \"soon\", \"gailalfaratx\", \"literally\", \"matter\", \"goal\", \"good\", \"safety\", \"wholemarsblog\", \"great\", \"high\", \"billym\", \"life\", \"people\", \"well\", \"need\", \"way\"], \"Freq\": [589.0, 353.0, 312.0, 669.0, 865.0, 531.0, 157.0, 187.0, 249.0, 151.0, 228.0, 180.0, 583.0, 121.0, 283.0, 170.0, 253.0, 183.0, 134.0, 199.0, 134.0, 125.0, 116.0, 464.0, 131.0, 221.0, 190.0, 157.0, 144.0, 110.0, 310.9877741783619, 112.74777116541033, 350.4762197495605, 77.13961702313019, 67.51559867497483, 66.81806919876209, 75.61389089174698, 65.66863102046506, 77.30815743092211, 57.82584516797715, 51.69316863902919, 87.83357678325034, 42.41864483764942, 42.49807525773898, 41.46906947749309, 40.502977394822864, 109.30207556115043, 57.26528227186698, 36.791610483522284, 35.73077596633893, 33.851211355239904, 32.21337054949015, 50.33916055127039, 31.90402944715163, 45.10772090684242, 30.697945545256204, 38.10193830026072, 31.70559132727429, 31.057346633632623, 35.23924109785133, 63.91938788948045, 59.6500909803309, 73.61137970919089, 57.470033760519186, 59.492019311248626, 86.45615196374139, 43.07854551855354, 48.58607981393424, 50.767921398482656, 108.95492408431286, 91.37545348791676, 104.67249061911738, 69.89220489270193, 71.80130754941302, 206.89498909231483, 170.8810054594289, 249.53268827177013, 314.2269234535104, 219.630073548217, 142.7173606749712, 119.18707209265541, 114.42717614623047, 118.48567358292357, 141.3701129201483, 111.93289264547623, 105.31879381218448, 91.43537462075787, 298.27876728773117, 111.77261409084876, 129.4087094593982, 164.9271495139771, 221.76151992360673, 125.70347433768208, 173.8201300414708, 123.13574903821488, 177.67331030049536, 148.44724567284555, 156.94836433976639, 123.14558224975804, 117.23480247532765, 105.49365457256629, 109.84991414840391, 109.0003737029522, 584.1892571188414, 87.20461525542778, 64.80665115363925, 59.23316774148089, 70.73135374269306, 45.4565577936665, 53.95187399910096, 43.57614938237015, 46.8723895597915, 46.61152222823121, 39.931547472490045, 38.00834129915154, 40.8594439741721, 38.0719019402049, 37.712229109800276, 122.55060040904289, 130.96666589513265, 31.34439135960164, 31.133734713031085, 31.18890864815526, 38.6264287452315, 29.25858472983548, 28.947844494257208, 39.41550943981194, 40.58579269790625, 29.944480945226115, 43.3480255035668, 27.6229244986818, 72.39024782717381, 64.12913555803418, 125.9206076903937, 177.72395126342496, 64.1779403438442, 156.58616580429324, 50.17418334327989, 80.28053745076927, 42.33020014353223, 72.48805824153379, 52.825669636284005, 156.93368460585856, 357.2428766968683, 518.9064078287595, 120.63959999676462, 123.96418030202288, 70.96064920414616, 144.09088689133955, 335.9924002021887, 189.0100838481023, 106.66411009031361, 91.38525426597099, 84.45997749101636, 100.29421826663813, 133.89320023436687, 143.6957501019731, 97.1528247986533, 81.36933028866115, 147.53123782082505, 98.20471126154182, 95.3161848893089, 89.11082587266522, 102.89867388470186, 84.74765124221753, 115.30194097542451, 83.48071022793852, 63.28313729218059, 108.57114736174255, 103.6877298915753, 53.88871496005742, 53.07402482103964, 61.71382666546628, 59.16155756173436, 44.68910134359117, 42.36478863425647, 43.12410243904803, 51.54308401462207, 49.002629330107595, 71.11719694785128, 43.23805810111334, 37.81572042981668, 73.52168966146307, 34.659386561615214, 35.61277293437593, 49.19360106373484, 35.798462432757944, 38.495539298383434, 31.931658910018932, 33.00620617813169, 37.25452950761918, 30.683053276990773, 30.69592834981548, 29.82713586277397, 32.06566783603572, 48.622647921792314, 65.78482553805227, 128.48316710707599, 86.66268306846513, 67.97277665345378, 77.27241921960669, 167.12333689097105, 48.47369069068733, 50.18752363427342, 54.833874506821864, 137.10161165450427, 194.90972112905118, 147.60632498083652, 147.926888754354, 195.34580900991156, 148.82222462373704, 355.6151962813806, 61.86975776915613, 168.0725767992048, 194.78809150292653, 110.04153175795962, 150.8362045100719, 136.50072284148763, 194.8885441131192, 202.4047982955882, 103.29091924571249, 85.66774791927033, 125.01726360572242, 98.64094772841403, 111.21375530784265, 137.52693074633225, 88.50682016215369, 80.13335354647432, 82.55953407237287, 156.33035235559257, 120.47857624911332, 92.02101400925326, 70.63240690045669, 94.1255068556589, 57.63485978367748, 55.87985061274726, 51.00037606057352, 47.741020507746406, 49.39792726240622, 77.52415500808463, 59.317131659181605, 48.82997659167854, 46.77522999520465, 40.672317882504146, 50.72683676476888, 35.874998832572466, 40.04784235196392, 34.542634946449496, 47.00575479420803, 37.22521253741767, 36.60354060243874, 40.77546260574042, 34.94786774220424, 46.91558678765987, 33.13828347290569, 33.46911816175049, 31.28075173225745, 29.467418922932648, 28.94836066801961, 79.78956434772836, 51.588454308719946, 145.04980837892185, 59.11286746558436, 93.28803095073802, 61.184289858869484, 42.30682450735431, 122.4601378078802, 43.6159526516201, 140.33088587859478, 165.7204659465791, 96.15393557736513, 63.6924848471858, 64.36729494018967, 91.72061017659381, 149.31630292330254, 147.5519067833899, 98.97974123832253, 62.0719024866415, 76.40469517968886, 80.77346759742476, 62.4109527257105, 184.24959300984912, 75.31462494636004, 120.91107446725346, 120.28809835272374, 95.79098318932317, 98.38898174279622, 67.63659453669753, 83.92105938810802, 74.39495188875237, 77.7829344275359, 71.36933863178452], \"Total\": [589.0, 353.0, 312.0, 669.0, 865.0, 531.0, 157.0, 187.0, 249.0, 151.0, 228.0, 180.0, 583.0, 121.0, 283.0, 170.0, 253.0, 183.0, 134.0, 199.0, 134.0, 125.0, 116.0, 464.0, 131.0, 221.0, 190.0, 157.0, 144.0, 110.0, 312.8885175044765, 113.70693635120175, 353.7855016564925, 77.94643951394193, 68.31814364118344, 67.63863003136319, 76.56265704598269, 66.50634065694493, 78.42123206724797, 58.669638669446485, 52.52297178113594, 89.34382576333374, 43.204849179300844, 43.33581560727331, 42.28798480826311, 41.30814686685411, 111.57857291076235, 58.46713111939677, 37.565944415932314, 36.520736543769544, 34.61839305706699, 32.97632746118048, 51.53894116778546, 32.66907192699212, 46.19352878710309, 31.44985963158395, 39.03832329833091, 32.49210688270569, 31.830566558439227, 36.12876114106965, 65.59437231518933, 61.42464189830311, 76.43037267519261, 59.49042359731312, 61.704332296421214, 91.55463414752509, 44.57767426574131, 50.69105192908828, 53.15946233233767, 122.82392671208446, 101.65419898437361, 118.47381007620424, 75.76870583754169, 79.52396097042555, 277.3788943698037, 221.64353081177634, 351.9127777125302, 464.80433325683094, 303.9588881853841, 184.57824493493763, 150.0356910429949, 143.14611206115768, 154.0646391844643, 195.80464408601148, 143.15021071948496, 134.81566425487844, 111.08227125988172, 669.9104148444277, 158.4522242532597, 201.76697233997083, 311.8897321197244, 522.451944525405, 196.88606581509674, 372.9102835792477, 222.785460836464, 524.0895687957563, 359.82801809305823, 583.1629109873099, 278.7956198223056, 303.0800976708317, 208.80548101663274, 110.74871216931882, 109.98606387285014, 589.9980350861291, 88.16726378838109, 65.63399792893576, 60.07014814687892, 71.8093563346867, 46.24832955408788, 54.903550917544365, 44.365685231489415, 47.742278026390416, 47.53178298840198, 40.74692887929785, 38.79845433211581, 41.72575131771862, 38.9204193725157, 38.57345329967025, 125.48361307854039, 134.16443694127597, 32.13419761485011, 31.925151684782264, 32.00418668234771, 39.64207968788375, 30.049041489726946, 29.732534297867513, 40.54736994047644, 41.77847354494008, 30.82874490521561, 44.62832786285926, 28.443068125312085, 74.62830685685572, 66.12652477876502, 131.32175587174007, 187.2905456526216, 67.24398890076806, 170.31428775794188, 52.29417843365222, 86.06317642643587, 43.916073569229376, 80.42139610349847, 56.53376938880657, 199.31593314721357, 531.953097375707, 865.9338785433789, 152.74936815443462, 160.2736920136214, 81.6787086181572, 199.49148445320589, 583.6420194046631, 283.730294106054, 140.19940157380518, 119.97237723570953, 109.10444597217565, 140.03011706010736, 292.54036627945686, 372.9102835792477, 166.8436938474652, 112.6274585087735, 522.451944525405, 187.91139897737546, 190.56420654390118, 158.74717153403373, 583.1629109873099, 245.81515240975332, 116.16352084358817, 84.32866114285466, 64.02456376238162, 109.85581592549417, 104.99181411548356, 54.61566544801662, 53.82806918825212, 62.71096998466419, 60.14106954147926, 45.450530683096844, 43.09974233771088, 43.928190199013436, 52.50860435834247, 49.93466174076683, 72.53646169407182, 44.1218685426944, 38.5890268885172, 75.03597069537192, 35.38832586803748, 36.36760976414666, 50.25311380198172, 36.589661358480356, 39.3665663581181, 32.66836740557934, 33.7707414226441, 38.146825480672845, 31.430600308537937, 31.448094150612405, 30.578447773650986, 32.87863493667785, 49.90421985534126, 67.79104160643784, 134.02810379231695, 90.02052474846147, 70.26908240980063, 80.10067312724478, 180.39491139994058, 50.06299186376183, 52.254547106884765, 57.718141844320535, 157.81735425083494, 249.54668005521984, 186.9097430855678, 190.34204643762064, 280.26652900293954, 202.61636942710217, 669.9104148444277, 69.69111107738311, 279.9545156074628, 352.7228660225812, 167.20324124039064, 304.8531856698931, 267.768609580044, 524.0895687957563, 583.1629109873099, 185.93272329464514, 131.06975282429494, 359.82801809305823, 200.06046786419722, 276.13592199553005, 865.9338785433789, 243.00647040636667, 143.1176740418214, 187.91139897737546, 157.137932023752, 121.24489133716317, 92.77767953602248, 71.45554347944669, 95.26498616483467, 58.37483239685214, 56.67966382059383, 51.78115487411124, 48.49944532776248, 50.1839319350647, 78.76306666193896, 60.280388154986625, 49.651663431687695, 47.63954013437706, 41.428755106260205, 51.6822568013646, 36.59956696072265, 40.856781149017344, 35.2843905094736, 48.015936381151896, 38.02647571970938, 37.39511859849102, 41.65956752686103, 35.71265029945045, 48.02789401280663, 33.939062069711404, 34.283511514412105, 32.0421310919026, 30.195139883315964, 29.692547170490347, 81.93120535594981, 52.99200301542124, 151.0849852878662, 61.00470264580208, 97.1981649258206, 64.90609142826155, 43.82847998967758, 144.67576646739076, 45.486441960360054, 183.8226488003876, 228.04840237320678, 125.28964318921172, 74.14497011355681, 75.48897517111503, 122.02725896134551, 253.5514493487513, 249.64618984452596, 143.82448878230994, 74.77048492033978, 108.98496403808468, 123.74431079789014, 77.67670074243732, 865.9338785433789, 147.49519134713518, 583.1629109873099, 583.6420194046631, 304.8531856698931, 531.953097375707, 113.60808600412886, 522.451944525405, 278.7956198223056, 524.0895687957563, 276.13592199553005], \"Category\": [\"Default\", \"Default\", \"Default\", \"Default\", \"Default\", \"Default\", \"Default\", \"Default\", \"Default\", \"Default\", \"Default\", \"Default\", \"Default\", \"Default\", \"Default\", \"Default\", \"Default\", \"Default\", \"Default\", \"Default\", \"Default\", \"Default\", \"Default\", \"Default\", \"Default\", \"Default\", \"Default\", \"Default\", \"Default\", \"Default\", \"Topic1\", \"Topic1\", \"Topic1\", \"Topic1\", \"Topic1\", \"Topic1\", \"Topic1\", \"Topic1\", \"Topic1\", \"Topic1\", \"Topic1\", \"Topic1\", \"Topic1\", \"Topic1\", \"Topic1\", \"Topic1\", \"Topic1\", \"Topic1\", \"Topic1\", \"Topic1\", \"Topic1\", \"Topic1\", \"Topic1\", \"Topic1\", \"Topic1\", \"Topic1\", \"Topic1\", \"Topic1\", \"Topic1\", \"Topic1\", \"Topic1\", \"Topic1\", \"Topic1\", \"Topic1\", \"Topic1\", \"Topic1\", \"Topic1\", \"Topic1\", \"Topic1\", \"Topic1\", \"Topic1\", \"Topic1\", \"Topic1\", \"Topic1\", \"Topic1\", \"Topic1\", \"Topic1\", \"Topic1\", \"Topic1\", \"Topic1\", \"Topic1\", \"Topic1\", \"Topic1\", \"Topic1\", \"Topic1\", \"Topic1\", \"Topic1\", \"Topic1\", \"Topic1\", \"Topic1\", \"Topic1\", \"Topic1\", \"Topic1\", \"Topic1\", \"Topic1\", \"Topic1\", \"Topic1\", \"Topic1\", \"Topic1\", \"Topic1\", \"Topic1\", \"Topic2\", \"Topic2\", \"Topic2\", \"Topic2\", \"Topic2\", \"Topic2\", \"Topic2\", \"Topic2\", \"Topic2\", \"Topic2\", \"Topic2\", \"Topic2\", \"Topic2\", \"Topic2\", \"Topic2\", \"Topic2\", \"Topic2\", \"Topic2\", \"Topic2\", \"Topic2\", \"Topic2\", \"Topic2\", \"Topic2\", \"Topic2\", \"Topic2\", \"Topic2\", \"Topic2\", \"Topic2\", \"Topic2\", \"Topic2\", \"Topic2\", \"Topic2\", \"Topic2\", \"Topic2\", \"Topic2\", \"Topic2\", \"Topic2\", \"Topic2\", \"Topic2\", \"Topic2\", \"Topic2\", \"Topic2\", \"Topic2\", \"Topic2\", \"Topic2\", \"Topic2\", \"Topic2\", \"Topic2\", \"Topic2\", \"Topic2\", \"Topic2\", \"Topic2\", \"Topic2\", \"Topic2\", \"Topic2\", \"Topic2\", \"Topic2\", \"Topic2\", \"Topic2\", \"Topic2\", \"Topic2\", \"Topic2\", \"Topic2\", \"Topic2\", \"Topic3\", \"Topic3\", \"Topic3\", \"Topic3\", \"Topic3\", \"Topic3\", \"Topic3\", \"Topic3\", \"Topic3\", \"Topic3\", \"Topic3\", \"Topic3\", \"Topic3\", \"Topic3\", \"Topic3\", \"Topic3\", \"Topic3\", \"Topic3\", \"Topic3\", \"Topic3\", \"Topic3\", \"Topic3\", \"Topic3\", \"Topic3\", \"Topic3\", \"Topic3\", \"Topic3\", \"Topic3\", \"Topic3\", \"Topic3\", \"Topic3\", \"Topic3\", \"Topic3\", \"Topic3\", \"Topic3\", \"Topic3\", \"Topic3\", \"Topic3\", \"Topic3\", \"Topic3\", \"Topic3\", \"Topic3\", \"Topic3\", \"Topic3\", \"Topic3\", \"Topic3\", \"Topic3\", \"Topic3\", \"Topic3\", \"Topic3\", \"Topic3\", \"Topic3\", \"Topic3\", \"Topic3\", \"Topic3\", \"Topic3\", \"Topic3\", \"Topic3\", \"Topic3\", \"Topic3\", \"Topic3\", \"Topic3\", \"Topic3\", \"Topic3\", \"Topic4\", \"Topic4\", \"Topic4\", \"Topic4\", \"Topic4\", \"Topic4\", \"Topic4\", \"Topic4\", \"Topic4\", \"Topic4\", \"Topic4\", \"Topic4\", \"Topic4\", \"Topic4\", \"Topic4\", \"Topic4\", \"Topic4\", \"Topic4\", \"Topic4\", \"Topic4\", \"Topic4\", \"Topic4\", \"Topic4\", \"Topic4\", \"Topic4\", \"Topic4\", \"Topic4\", \"Topic4\", \"Topic4\", \"Topic4\", \"Topic4\", \"Topic4\", \"Topic4\", \"Topic4\", \"Topic4\", \"Topic4\", \"Topic4\", \"Topic4\", \"Topic4\", \"Topic4\", \"Topic4\", \"Topic4\", \"Topic4\", \"Topic4\", \"Topic4\", \"Topic4\", \"Topic4\", \"Topic4\", \"Topic4\", \"Topic4\", \"Topic4\", \"Topic4\", \"Topic4\", \"Topic4\", \"Topic4\", \"Topic4\", \"Topic4\", \"Topic4\", \"Topic4\", \"Topic4\", \"Topic4\", \"Topic4\", \"Topic4\"], \"logprob\": [30.0, 29.0, 28.0, 27.0, 26.0, 25.0, 24.0, 23.0, 22.0, 21.0, 20.0, 19.0, 18.0, 17.0, 16.0, 15.0, 14.0, 13.0, 12.0, 11.0, 10.0, 9.0, 8.0, 7.0, 6.0, 5.0, 4.0, 3.0, 2.0, 1.0, -4.569, -5.5836, -4.4495, -5.9632, -6.0964, -6.1068, -5.9832, -6.1242, -5.961, -6.2514, -6.3635, -5.8334, -6.5612, -6.5593, -6.5838, -6.6074, -5.6147, -6.2611, -6.7035, -6.7328, -6.7868, -6.8364, -6.39, -6.8461, -6.4997, -6.8846, -6.6685, -6.8523, -6.873, -6.7466, -6.1512, -6.2203, -6.01, -6.2575, -6.223, -5.8492, -6.5458, -6.4255, -6.3815, -5.6179, -5.7938, -5.658, -6.0618, -6.0349, -4.9766, -5.1678, -4.7892, -4.5587, -4.9168, -5.3479, -5.5281, -5.5689, -5.534, -5.3574, -5.5909, -5.6518, -5.7932, -4.6108, -5.5923, -5.4458, -5.2033, -4.9072, -5.4749, -5.1508, -5.4955, -5.1288, -5.3086, -5.2529, -5.4954, -5.5446, -5.6501, -5.4721, -5.4799, -3.801, -5.703, -5.9998, -6.0897, -5.9123, -6.3545, -6.1831, -6.3967, -6.3238, -6.3294, -6.484, -6.5334, -6.4611, -6.5317, -6.5412, -5.3627, -5.2963, -6.7262, -6.7329, -6.7312, -6.5173, -6.795, -6.8057, -6.4971, -6.4678, -6.7719, -6.402, -6.8526, -5.8891, -6.0103, -5.3356, -4.991, -6.0096, -5.1176, -6.2557, -5.7857, -6.4257, -5.8878, -6.2042, -5.1154, -4.2928, -3.9195, -5.3784, -5.3512, -5.9091, -5.2008, -4.3541, -4.9294, -5.5015, -5.6561, -5.7349, -5.5631, -5.2742, -5.2035, -5.5949, -5.7722, -5.1772, -5.5842, -5.614, -5.6813, -5.5375, -5.7315, -5.411, -5.7339, -6.0109, -5.4711, -5.5171, -6.1716, -6.1868, -6.036, -6.0782, -6.3588, -6.4122, -6.3944, -6.2161, -6.2666, -5.8942, -6.3918, -6.5258, -5.8609, -6.613, -6.5858, -6.2628, -6.5806, -6.508, -6.6949, -6.6618, -6.5407, -6.7348, -6.7344, -6.7631, -6.6907, -6.2744, -5.9721, -5.3027, -5.6965, -5.9394, -5.8112, -5.0398, -6.2775, -6.2428, -6.1542, -5.2378, -4.886, -5.164, -5.1618, -4.8837, -5.1558, -4.2847, -6.0335, -5.0341, -4.8866, -5.4577, -5.1423, -5.2422, -4.8861, -4.8482, -5.521, -5.708, -5.3301, -5.567, -5.4471, -5.2347, -5.6754, -5.7748, -5.745, -4.9631, -5.2236, -5.4931, -5.7576, -5.4704, -5.9609, -5.9919, -6.0832, -6.1493, -6.1152, -5.6645, -5.9322, -6.1267, -6.1697, -6.3095, -6.0886, -6.435, -6.325, -6.4729, -6.1648, -6.3981, -6.4149, -6.307, -6.4612, -6.1667, -6.5144, -6.5044, -6.5721, -6.6318, -6.6496, -5.6357, -6.0718, -5.038, -5.9356, -5.4794, -5.9012, -6.2701, -5.2073, -6.2396, -5.0711, -4.9048, -5.4491, -5.861, -5.8505, -5.4963, -5.009, -5.0209, -5.4202, -5.8868, -5.679, -5.6234, -5.8813, -4.7988, -5.6934, -5.22, -5.2252, -5.4529, -5.4261, -5.8009, -5.5852, -5.7057, -5.6611, -5.7472], \"loglift\": [30.0, 29.0, 28.0, 27.0, 26.0, 25.0, 24.0, 23.0, 22.0, 21.0, 20.0, 19.0, 18.0, 17.0, 16.0, 15.0, 14.0, 13.0, 12.0, 11.0, 10.0, 9.0, 8.0, 7.0, 6.0, 5.0, 4.0, 3.0, 2.0, 1.0, 1.2402, 1.2378, 1.2369, 1.2359, 1.2345, 1.2341, 1.2338, 1.2336, 1.232, 1.2318, 1.2304, 1.2292, 1.2279, 1.2268, 1.2267, 1.2266, 1.2257, 1.2255, 1.2255, 1.2244, 1.2239, 1.2229, 1.2227, 1.2226, 1.2225, 1.2221, 1.222, 1.2218, 1.2217, 1.2214, 1.2204, 1.217, 1.2087, 1.2117, 1.2098, 1.189, 1.2121, 1.2039, 1.2003, 1.1265, 1.1397, 1.1224, 1.1656, 1.1441, 0.9531, 0.9862, 0.9025, 0.8548, 0.9213, 0.9891, 1.0161, 1.0224, 0.9837, 0.9206, 1.0003, 0.9994, 1.0517, 0.4372, 0.8973, 0.8022, 0.6091, 0.3894, 0.7976, 0.483, 0.6534, 0.1646, 0.3609, -0.0663, 0.4292, 0.2965, 0.5635, 1.3757, 1.3749, 1.374, 1.3729, 1.3712, 1.3698, 1.3687, 1.3666, 1.3664, 1.3659, 1.3655, 1.3643, 1.3637, 1.3633, 1.3629, 1.3618, 1.3613, 1.3602, 1.3597, 1.359, 1.3588, 1.3581, 1.3579, 1.3572, 1.3571, 1.3556, 1.3549, 1.3548, 1.3548, 1.3546, 1.3534, 1.3532, 1.3419, 1.3314, 1.3372, 1.2998, 1.3425, 1.3143, 1.3471, 1.28, 1.316, 1.1448, 0.9857, 0.8718, 1.1479, 1.127, 1.2432, 1.0585, 0.8317, 0.9776, 1.1105, 1.1117, 1.1278, 1.0501, 0.6023, 0.4302, 0.8431, 1.0588, 0.1194, 0.735, 0.6911, 0.8064, -0.3509, 0.319, 1.3891, 1.3865, 1.3849, 1.3848, 1.3841, 1.3832, 1.3825, 1.3805, 1.3801, 1.3797, 1.3794, 1.3781, 1.378, 1.3777, 1.3768, 1.3763, 1.3763, 1.3762, 1.3758, 1.3756, 1.3753, 1.3747, 1.3742, 1.3738, 1.3737, 1.3729, 1.3725, 1.3724, 1.3717, 1.3715, 1.3705, 1.3665, 1.3543, 1.3586, 1.3633, 1.3606, 1.3201, 1.3643, 1.3562, 1.3453, 1.2558, 1.1495, 1.1605, 1.1445, 1.0356, 1.088, 0.7633, 1.2775, 0.8863, 0.8028, 0.9782, 0.6929, 0.7228, 0.4073, 0.3384, 0.8087, 0.9713, 0.3394, 0.6894, 0.4871, -0.4434, 0.3866, 0.8166, 0.5741, 1.5349, 1.5337, 1.5318, 1.5284, 1.528, 1.5273, 1.5258, 1.5248, 1.5243, 1.5242, 1.5242, 1.5239, 1.5233, 1.5217, 1.5216, 1.5214, 1.52, 1.52, 1.5188, 1.5188, 1.5187, 1.5186, 1.5186, 1.5184, 1.5166, 1.5161, 1.516, 1.516, 1.5156, 1.5146, 1.5135, 1.5132, 1.4992, 1.5085, 1.499, 1.481, 1.5047, 1.3733, 1.498, 1.27, 1.2208, 1.2753, 1.3881, 1.3806, 1.2545, 1.0105, 1.0141, 1.1663, 1.3539, 1.1848, 1.1134, 1.3212, -0.0075, 0.8679, -0.0334, -0.0394, 0.3824, -0.1476, 1.0214, -0.2886, 0.2189, -0.3677, 0.187]}, \"token.table\": {\"Topic\": [1, 4, 2, 1, 4, 1, 2, 1, 2, 3, 4, 1, 2, 3, 4, 1, 2, 3, 1, 2, 3, 4, 4, 2, 2, 1, 4, 1, 2, 3, 1, 3, 4, 1, 1, 2, 4, 4, 1, 1, 2, 1, 2, 3, 4, 1, 2, 3, 4, 1, 2, 3, 4, 1, 1, 3, 4, 1, 4, 2, 4, 1, 2, 3, 4, 1, 2, 3, 4, 1, 2, 3, 4, 2, 3, 4, 2, 3, 1, 2, 3, 4, 1, 2, 3, 4, 4, 1, 2, 3, 4, 3, 4, 1, 2, 3, 2, 2, 4, 2, 3, 4, 1, 3, 4, 2, 3, 1, 4, 1, 2, 3, 4, 1, 3, 1, 2, 4, 2, 3, 4, 2, 1, 2, 3, 2, 3, 1, 3, 4, 2, 1, 3, 4, 1, 3, 4, 1, 2, 3, 4, 1, 2, 3, 4, 1, 2, 1, 2, 3, 4, 3, 4, 3, 4, 1, 3, 1, 2, 3, 4, 1, 1, 1, 1, 3, 1, 2, 3, 4, 2, 1, 2, 3, 4, 3, 1, 2, 3, 1, 3, 2, 2, 1, 2, 3, 4, 1, 2, 3, 4, 1, 2, 3, 4, 1, 2, 3, 4, 2, 4, 4, 1, 2, 3, 4, 1, 2, 3, 4, 2, 1, 2, 3, 4, 1, 2, 3, 4, 1, 2, 3, 4, 4, 2, 3, 4, 1, 2, 3, 4, 2, 1, 2, 3, 4, 3, 1, 2, 3, 4, 4, 4, 4, 4, 4, 1, 4, 2, 3, 4, 3, 1, 1, 2, 4, 4, 3, 1, 2, 3, 4, 2, 1, 3, 1, 2, 3, 4, 1, 3, 4, 4, 2, 1, 4, 1, 2, 3, 4, 1, 1, 2, 3, 4, 1, 2, 3, 2, 3, 4, 3, 4, 1, 2, 3, 4, 1, 2, 3, 4, 1, 2, 3, 4, 1, 2, 3, 3, 4, 1, 2, 3, 4, 1, 2, 3, 4, 1, 3, 4, 4, 3, 3, 4, 3, 4, 4, 1, 2, 3, 4, 3, 1, 2, 3, 4, 2, 1, 1, 2, 3, 3, 1, 2, 1, 4, 1, 2, 3, 4, 1, 3, 1, 2, 4, 3, 1, 2, 3, 4, 1, 2, 4, 1, 2, 3, 4, 3, 1, 2, 3, 4, 1, 2, 3, 4, 1, 2, 3, 4, 1, 4, 3, 2, 2, 1, 2, 3, 4, 1, 2, 3, 4, 4, 3, 2, 1, 1, 2, 3, 3, 3, 1, 2, 3, 4, 1, 2, 1, 2, 3, 4, 1, 2, 3, 4, 1, 1, 2, 3, 4, 1, 2, 3, 4, 1, 2, 4, 2, 3, 1, 2, 3, 4, 1, 2, 3, 4, 1, 2, 3, 4, 1, 2, 3, 4, 1, 2, 3, 4, 1, 2, 3, 1, 2, 1, 2, 1, 2, 4, 1, 2, 3, 4, 2, 3, 4, 1, 1, 2, 2, 1, 2, 3, 4, 1, 2, 3, 4, 1, 2, 3, 4, 1, 2, 3, 4, 2, 1, 2, 3, 4, 1, 2, 3, 1, 1, 4, 1, 2, 3, 4, 4, 1, 2, 3, 4, 1, 2, 3, 4, 1, 3, 1, 2, 4, 1, 2, 1, 2, 1, 2, 1, 3, 1, 2, 4, 1, 2, 3, 4, 1, 2, 3, 4, 1, 2, 3, 4, 1, 1, 2, 3, 4, 3, 4, 1, 2, 3, 4, 3, 1, 2, 3, 4, 3, 4, 1, 2, 3, 1, 2, 3, 4], \"Freq\": [0.7823949363195388, 0.2165557413027295, 0.9731177864112333, 0.9939642479706866, 0.003196026520806066, 0.015938336097703825, 0.9802076700087852, 0.41130760407246675, 0.18897916943870094, 0.3473881791152591, 0.050023897792597305, 0.004385034008541203, 0.25433197249538975, 0.013155102025623608, 0.7279156454178396, 0.03465115015993537, 0.017325575079967685, 0.9529066293982228, 0.007453540019980868, 0.9764137426174937, 0.007453540019980868, 0.014907080039961737, 0.9674762240715645, 0.9835429420785308, 0.9844523961345097, 0.9818769479924871, 0.9935788698406206, 0.012484289594064201, 0.024968579188128403, 0.9612902987429436, 0.019899264430467297, 0.9750639570928975, 0.9604194619420747, 0.9900429895072357, 0.9593776491034215, 0.018811326453008266, 0.018811326453008266, 0.9788416834551061, 0.9926510250859664, 0.20294682966320346, 0.7921473028789555, 0.015051481096517345, 0.7876941773844077, 0.0050171603655057816, 0.19566925425472548, 0.20428911825877116, 0.09613605565118642, 0.10815306260758473, 0.592839009848983, 0.13159054876328788, 0.6711117986927683, 0.013159054876328789, 0.18422676826860304, 0.9741624245118006, 0.014751211610016536, 0.9735799662610914, 0.014751211610016536, 0.9581374035227814, 0.03361885626395725, 0.9635135811526923, 0.02240729258494633, 0.18117157872623418, 0.4580564443267053, 0.1674982520299146, 0.19484490542255373, 0.11179611537932435, 0.24455400239227204, 0.5589805768966218, 0.08384708653449327, 0.2267756940304412, 0.5606399102419242, 0.081891222844326, 0.12598649668357845, 0.013246967490726225, 0.13246967490726225, 0.8478059194064784, 0.01997483495835277, 0.9587920780009329, 0.22503655589658436, 0.12859231765519108, 0.6000974823908917, 0.046436114708819, 0.02277070600183776, 0.9563696520771859, 0.02277070600183776, 0.9896507846986834, 0.9730062883745666, 0.20552255707745384, 0.7218353224183744, 0.07017843412400862, 0.005012745294572045, 0.9847358968076887, 0.9766760606116465, 0.9393298416923962, 0.021844880039358052, 0.021844880039358052, 0.9813666350422618, 0.020821233588409066, 0.9785979786552261, 0.03086478023828465, 0.010288260079428216, 0.9568081873868242, 0.007461121747641439, 0.9550235836981041, 0.029844486990565754, 0.9826066327196262, 0.9699365421310382, 0.9749067366346279, 0.017103626958502243, 0.7104033039806797, 0.13923904758021324, 0.12218936828467693, 0.02841613215922719, 0.9885862827071541, 0.9842442518967084, 0.07460701120232094, 0.8952841344278514, 0.01243450186705349, 0.9647043430664046, 0.012696306052837256, 0.990311872121306, 0.9794204602770765, 0.9561727321927757, 0.01620631749479281, 0.9900874494461206, 0.019137090557010027, 0.9568545278505013, 0.013326941608575449, 0.9861936790345832, 0.013326941608575449, 0.9816690754409877, 0.8874492366256164, 0.10584256950580745, 0.008141736115831343, 0.016392178908011007, 0.016392178908011007, 0.9671385555726494, 0.9238642685819318, 0.026396121959483765, 0.05279224391896753, 0.013198060979741882, 0.013399741225780405, 0.9647813682561891, 0.013399741225780405, 0.9841676818551762, 0.9695425352117645, 0.9763512473052726, 0.06909609544177009, 0.1233858847174466, 0.7353798729159817, 0.06909609544177009, 0.9744837839378766, 0.9790296463665995, 0.9788180777199753, 0.013786170108732046, 0.9646084213291096, 0.0224327539843979, 0.9893000090767766, 0.005653142909010152, 0.002826571454505076, 0.002826571454505076, 0.9721131029921966, 0.9691752517276008, 0.9849346416087362, 0.1004432257110579, 0.8896399991550843, 0.9053874973201641, 0.050299305406675786, 0.025149652703337893, 0.012574826351668946, 0.9851334726187154, 0.5028603630938023, 0.038313170521432564, 0.29692707154110237, 0.15804182840090933, 0.9886627493588752, 0.10654595388091101, 0.7191851886961493, 0.16869776031144243, 0.9937828212254505, 0.9862999655014236, 0.9686232713140128, 0.9730081158363147, 0.04367529013685591, 0.7736765681385903, 0.012478654324815973, 0.16846183338501564, 0.01337426126185214, 0.01337426126185214, 0.14711687388037356, 0.8292041982348327, 0.6399640293403568, 0.2641121390928457, 0.04571171638145406, 0.0507907959793934, 0.14272128799076278, 0.11774506259237928, 0.6957662789549685, 0.04281638639722883, 0.18023422552950094, 0.798180141630647, 0.9865754343435494, 0.02887056462330989, 0.5993529215799134, 0.1593655167206706, 0.2124873556275608, 0.17305128253620913, 0.5756953557640224, 0.04454785491031126, 0.2056054842014366, 0.9932395406262228, 0.13375439710788606, 0.016050527652946327, 0.7918260308786855, 0.05885193472746987, 0.774739190148906, 0.016253269723403622, 0.20587474982977924, 0.0054177565744678744, 0.12207240538134484, 0.1602200320630151, 0.6561391789247285, 0.06103620269067242, 0.9897020404174276, 0.030813748848373203, 0.015406874424186602, 0.9398193398753827, 0.13777123538239563, 0.05248428014567453, 0.4953203938748033, 0.31490568087404713, 0.9753625341678307, 0.2294569282169121, 0.008194890293461146, 0.01638978058692229, 0.7539299069984254, 0.9846164055159377, 0.3253496610115854, 0.49851964187259057, 0.020990300710424868, 0.15217968015058028, 0.9867990129767981, 0.9927583874300955, 0.9868752950727567, 0.9787594573595872, 0.9867213945463038, 0.9905582057018738, 0.9880086829247057, 0.02647516556578203, 0.013237582782891015, 0.9597247517595986, 0.9838844816653738, 0.9703930808447421, 0.9856959733094588, 0.9917574758604233, 0.9849143018148135, 0.9916178164844, 0.978870283642273, 0.38466047294169575, 0.05601851547694599, 0.51163577468944, 0.048549380080019855, 0.9888120546933462, 0.014231009794152757, 0.9677086660023875, 0.3746774086443133, 0.003943972722571719, 0.03155178178057375, 0.5876519356631862, 0.8951917472094647, 0.08853544752621079, 0.009837271947356755, 0.976408147201446, 0.9887290963740926, 0.8862718260893468, 0.10972889275391913, 0.012243092684960738, 0.8692595806322124, 0.036729278054882214, 0.08570164879472517, 0.9923865807087966, 0.008802190364897591, 0.387296376055494, 0.008802190364897591, 0.5985489448130362, 0.046477485099786844, 0.9295497019957369, 0.011619371274946711, 0.027526732944111933, 0.2752673294411193, 0.6973439012508357, 0.989891835990028, 0.989732422344284, 0.320979107550366, 0.25925235609837255, 0.36624539194849454, 0.05761163468852723, 0.13495919652816085, 0.2999093256181352, 0.4948503872699231, 0.06997884264423154, 0.8192126337343392, 0.12603271288220602, 0.03600934653777315, 0.009002336634443288, 0.007614884474867093, 0.9594754438332538, 0.030459537899468373, 0.9795408384728406, 0.9800448778381083, 0.008081179599709325, 0.299003645189245, 0.040405897998546624, 0.6545755475764552, 0.7201054942193438, 0.005107131164676197, 0.25024942706913367, 0.025535655823380986, 0.19964059812950186, 0.7775475927149019, 0.021014799803105458, 0.9836181952271161, 0.9857513098101788, 0.9905534148177244, 0.009524552065555043, 0.9745734126919664, 0.9723309363180822, 0.9625618421884076, 0.3396366014477358, 0.14119723880411486, 0.3720738049567892, 0.14882952198271568, 0.9899837674070259, 0.07132698062720118, 0.7631986927110526, 0.121255867066242, 0.04279618837632071, 0.9710212282178989, 0.9848545714661667, 0.9687572696815634, 0.9910346471350218, 0.9903138854182542, 0.9812823055532233, 0.01512252463509358, 0.9678415766459891, 0.021984572916726862, 0.967321208335982, 0.4249194635530827, 0.2832796423687218, 0.1320695629962284, 0.16078033756062587, 0.9849589409021564, 0.011192715237524506, 0.017614494001018464, 0.9218251860532997, 0.06458647800373438, 0.9771772430756496, 0.20977718242080112, 0.5813824769947916, 0.08391087296832045, 0.12586630945248067, 0.1348709155143564, 0.01348709155143564, 0.863173859291881, 0.031926022759592526, 0.031926022759592526, 0.16761161948786077, 0.7662245462302206, 0.9839973331769327, 0.529033126158388, 0.17634437538612935, 0.19237568223941384, 0.10260036386102071, 0.10002302427019197, 0.7585079340489557, 0.07501726820264397, 0.06668201618012798, 0.7068376637047803, 0.13884311251343898, 0.07573260682551217, 0.08204365739430486, 0.9878578223733665, 0.9919400475573683, 0.9810831544513706, 0.9650890198915134, 0.9618379701877586, 0.016017893426207803, 0.9503950099549963, 0.01067859561747187, 0.02135719123494374, 0.3136781720133599, 0.666125556298034, 0.010573421528540222, 0.010573421528540222, 0.9894339525237671, 0.981026783358213, 0.9867608028396713, 0.9739066360344435, 0.9756934587691736, 0.015245210293268337, 0.015245210293268337, 0.965286117522, 0.9887273103244963, 0.38603656557835414, 0.2375609634328333, 0.19796746952736108, 0.178170722574625, 0.9768066714876125, 0.01628011119146021, 0.20164164534239556, 0.7699044640346012, 0.009165529333745252, 0.018331058667490505, 0.12370065684216437, 0.16672697226552588, 0.5539638110757795, 0.1505921039817653, 0.9734024617195765, 0.21695622554017277, 0.027119528192521596, 0.25085563578082476, 0.5084911536097799, 0.7462716313376966, 0.11897083977847336, 0.09373460103758507, 0.043262123555808496, 0.01912258744572766, 0.956129372286383, 0.01912258744572766, 0.9838030776150224, 0.9890267239686461, 0.13210545826280004, 0.006952918855936845, 0.17382297139842112, 0.6883389667377476, 0.041472045709551306, 0.013824015236517103, 0.09676810665561972, 0.8432649294275433, 0.21216101636284204, 0.01632007818175708, 0.005440026060585693, 0.761603648481997, 0.793144612276947, 0.013330161550873059, 0.15329685783504018, 0.039990484652619174, 0.0428479253318379, 0.714132088863965, 0.22852226843646878, 0.014282641777279299, 0.022217155538567127, 0.011108577769283564, 0.9664462659276701, 0.9821368641794669, 0.9821850256759435, 0.9701402253729773, 0.019402804507459546, 0.9925402882911368, 0.01887077187305015, 0.981280137398608, 0.7788412465297071, 0.02967014272494122, 0.16318578498717673, 0.022252607043705918, 0.012672877513972256, 0.8680921097070996, 0.1140558976257503, 0.9953432042466731, 0.029742435460683326, 0.9517579347418664, 0.9844226324895735, 0.7659122860679051, 0.10385251336513966, 0.006490782085321229, 0.11683407753578212, 0.6393514186387214, 0.044605912928282886, 0.3072851779503932, 0.004956212547586987, 0.02771696807408752, 0.005543393614817504, 0.9257467336745232, 0.03880375530372253, 0.46660016540687066, 0.3861518610263757, 0.09117474496456093, 0.05631381306634645, 0.9903404036179205, 0.444835598009331, 0.013434632154644225, 0.5314143385614827, 0.010449158342501064, 0.037251598562377794, 0.5215223798732892, 0.44169752581105104, 0.9857413460666258, 0.0244107235004173, 0.976428940016692, 0.003389841797876557, 0.9898338049799548, 0.003389841797876557, 0.003389841797876557, 0.9936247986193301, 0.26849443312584537, 0.345788285086316, 0.2766306280690528, 0.10983863173330037, 0.20837784733699286, 0.00400726629494217, 0.7814169275137233, 0.00801453258988434, 0.771509095590145, 0.22558745485091958, 0.035377085618423156, 0.9374927688882135, 0.035377085618423156, 0.7963890765771877, 0.19560433459790577, 0.9682014807709887, 0.026167607588405098, 0.9666400308390938, 0.03945469513628954, 0.009102840769743267, 0.9922096439020162, 0.9768900708846256, 0.008962294228299318, 0.008962294228299318, 0.5521006601516439, 0.34113536724817023, 0.07181797205224637, 0.031420362772857785, 0.23176991800811775, 0.10502074409742836, 0.4019759515453292, 0.2571197527902556, 0.7237820920894482, 0.003289918600406583, 0.09211772081138432, 0.18094552302236205, 0.9795197142885681, 0.44118340194295674, 0.08608456623277205, 0.2080377017291991, 0.2654274125510471, 0.9818808938810716, 0.020038385589409624, 0.2692215109054088, 0.1766230294474975, 0.3463869121203349, 0.20748918993346793, 0.973276416786462, 0.6755530823041984, 0.16566110617013785, 0.13984379092284363, 0.01721154349819614, 0.022816214485090937, 0.9582810083738195, 0.3289409917653789, 0.011961490609650143, 0.6578819835307578, 0.2863437835457314, 0.053866652350187096, 0.5528419583308676, 0.10773330470037419], \"Term\": [\"absolutely\", \"absolutely\", \"accord\", \"account\", \"account\", \"accurate\", \"accurate\", \"actually\", \"actually\", \"actually\", \"actually\", \"add\", \"add\", \"add\", \"add\", \"age\", \"age\", \"age\", \"agree\", \"agree\", \"agree\", \"agree\", \"algorithm\", \"alien\", \"alive\", \"amazing\", \"app\", \"apply\", \"apply\", \"apply\", \"approve\", \"approve\", \"argument\", \"arm\", \"attempt\", \"attempt\", \"attempt\", \"austen\", \"away\", \"awesome\", \"awesome\", \"bad\", \"bad\", \"bad\", \"bad\", \"big\", \"big\", \"big\", \"big\", \"billym\", \"billym\", \"billym\", \"billym\", \"biological\", \"block\", \"block\", \"block\", \"bot\", \"bot\", \"cancel\", \"cancel\", \"car\", \"car\", \"car\", \"car\", \"case\", \"case\", \"case\", \"case\", \"change\", \"change\", \"change\", \"change\", \"city\", \"city\", \"city\", \"claim\", \"claim\", \"come\", \"come\", \"come\", \"come\", \"come_soon\", \"come_soon\", \"come_soon\", \"common\", \"community\", \"company\", \"company\", \"company\", \"company\", \"compute\", \"concept\", \"concern\", \"concern\", \"concern\", \"content\", \"contribute\", \"contribute\", \"cool\", \"cool\", \"cool\", \"correct\", \"correct\", \"correct\", \"corruption\", \"credit\", \"date\", \"date\", \"day\", \"day\", \"day\", \"day\", \"decision\", \"delete\", \"demand\", \"demand\", \"demand\", \"direction\", \"dogeofficialceo\", \"dogeofficialceo\", \"dollar\", \"donut\", \"donut\", \"double\", \"download\", \"download\", \"downtown\", \"downtown\", \"downtown\", \"draw\", \"drjbhattacharya\", \"drjbhattacharya\", \"drjbhattacharya\", \"dumb\", \"dumb\", \"dumb\", \"early\", \"early\", \"early\", \"early\", \"eat\", \"eat\", \"eat\", \"effect\", \"employee\", \"engage\", \"engine\", \"engine\", \"engine\", \"engine\", \"epic\", \"essentially\", \"evasteslasplaid\", \"evasteslasplaid\", \"evil\", \"evil\", \"exactly\", \"exactly\", \"exactly\", \"exactly\", \"example\", \"exception\", \"eye\", \"fact\", \"fact\", \"factory\", \"factory\", \"factory\", \"factory\", \"fashion\", \"fast\", \"fast\", \"fast\", \"fast\", \"feed\", \"feel\", \"feel\", \"feel\", \"fine\", \"flamethrower\", \"forever\", \"fundamental\", \"future\", \"future\", \"future\", \"future\", \"gailalfaratx\", \"gailalfaratx\", \"gailalfaratx\", \"gailalfaratx\", \"get\", \"get\", \"get\", \"get\", \"go\", \"go\", \"go\", \"go\", \"goal\", \"goal\", \"golden\", \"good\", \"good\", \"good\", \"good\", \"great\", \"great\", \"great\", \"great\", \"greatly\", \"happen\", \"happen\", \"happen\", \"happen\", \"hard\", \"hard\", \"hard\", \"hard\", \"have\", \"have\", \"have\", \"have\", \"headline\", \"heavy\", \"heavy\", \"heavy\", \"high\", \"high\", \"high\", \"high\", \"house\", \"human\", \"human\", \"human\", \"human\", \"ignore\", \"important\", \"important\", \"important\", \"important\", \"importantly\", \"incredible\", \"individual\", \"industry\", \"influence\", \"information\", \"insurance\", \"interesting\", \"interesting\", \"interesting\", \"investment\", \"invite\", \"irony\", \"irrelevant\", \"jacket\", \"janeidyeve\", \"kind\", \"know\", \"know\", \"know\", \"know\", \"lack\", \"large\", \"large\", \"launch\", \"launch\", \"launch\", \"launch\", \"lead\", \"lead\", \"lead\", \"left\", \"legacy\", \"let\", \"let\", \"level\", \"level\", \"level\", \"level\", \"lie\", \"life\", \"life\", \"life\", \"life\", \"list\", \"list\", \"list\", \"literally\", \"literally\", \"literally\", \"liv_boeree\", \"lol\", \"long\", \"long\", \"long\", \"long\", \"look\", \"look\", \"look\", \"look\", \"lose\", \"lose\", \"lose\", \"lose\", \"love\", \"love\", \"love\", \"maker\", \"manufacturing\", \"matter\", \"matter\", \"matter\", \"matter\", \"maybe\", \"maybe\", \"maybe\", \"maybe\", \"medium\", \"medium\", \"medium\", \"meme\", \"mental\", \"mess\", \"mess\", \"miss\", \"multiple\", \"nature\", \"need\", \"need\", \"need\", \"need\", \"nice\", \"note\", \"note\", \"note\", \"note\", \"offer\", \"office\", \"online\", \"open_source\", \"org\", \"oversee\", \"past\", \"past\", \"path\", \"path\", \"people\", \"people\", \"people\", \"people\", \"platform\", \"platform\", \"point\", \"point\", \"point\", \"political\", \"post\", \"post\", \"post\", \"post\", \"ppathole\", \"ppathole\", \"ppathole\", \"pretty\", \"pretty\", \"pretty\", \"pretty\", \"principle\", \"probably\", \"probably\", \"probably\", \"probably\", \"problem\", \"problem\", \"problem\", \"problem\", \"production\", \"production\", \"production\", \"production\", \"propaganda\", \"propellant\", \"proportionate\", \"publication\", \"pyramid\", \"question\", \"question\", \"question\", \"question\", \"real\", \"real\", \"real\", \"real\", \"reasonable\", \"receive\", \"recommendation\", \"regulatory_approval\", \"remove\", \"remove\", \"remove\", \"replace\", \"respect\", \"right\", \"right\", \"right\", \"right\", \"riley_gaine\", \"riley_gaine\", \"risk\", \"risk\", \"risk\", \"risk\", \"rocket\", \"rocket\", \"rocket\", \"rocket\", \"russian\", \"safety\", \"safety\", \"safety\", \"safety\", \"say\", \"say\", \"say\", \"say\", \"seriously\", \"seriously\", \"seriously\", \"sight\", \"slight\", \"soon\", \"soon\", \"soon\", \"soon\", \"sound\", \"sound\", \"sound\", \"sound\", \"starship\", \"starship\", \"starship\", \"starship\", \"start\", \"start\", \"start\", \"start\", \"stop\", \"stop\", \"stop\", \"stop\", \"story\", \"story\", \"story\", \"subscription\", \"subsidy\", \"successful\", \"successful\", \"sugar\", \"suggestion\", \"suggestion\", \"super\", \"super\", \"super\", \"super\", \"sure\", \"sure\", \"sure\", \"suspend\", \"talent\", \"talent\", \"talented\", \"team\", \"team\", \"team\", \"team\", \"tell\", \"tell\", \"tell\", \"tell\", \"thank\", \"thank\", \"thank\", \"thank\", \"think\", \"think\", \"think\", \"think\", \"thread\", \"time\", \"time\", \"time\", \"time\", \"titterdaily\", \"titterdaily\", \"titterdaily\", \"training\", \"trend\", \"trend\", \"true\", \"true\", \"true\", \"true\", \"trust\", \"try\", \"try\", \"try\", \"try\", \"tweet\", \"tweet\", \"tweet\", \"tweet\", \"twitter\", \"twitter\", \"upside_pyramid\", \"upside_pyramid\", \"upside_pyramid\", \"user\", \"user\", \"verification\", \"verification\", \"verify\", \"verify\", \"video\", \"video\", \"walk\", \"walk\", \"walk\", \"want\", \"want\", \"want\", \"want\", \"way\", \"way\", \"way\", \"way\", \"week\", \"week\", \"week\", \"week\", \"weird\", \"well\", \"well\", \"well\", \"well\", \"western\", \"western\", \"wholemarsblog\", \"wholemarsblog\", \"wholemarsblog\", \"wholemarsblog\", \"widely\", \"work\", \"work\", \"work\", \"work\", \"worldandscience\", \"worldandscience\", \"write\", \"write\", \"write\", \"year\", \"year\", \"year\", \"year\"]}, \"R\": 30, \"lambda.step\": 0.01, \"plot.opts\": {\"xlab\": \"PC1\", \"ylab\": \"PC2\"}, \"topic.order\": [1, 3, 2, 4]};\n",
       "\n",
       "function LDAvis_load_lib(url, callback){\n",
       "  var s = document.createElement('script');\n",
       "  s.src = url;\n",
       "  s.async = true;\n",
       "  s.onreadystatechange = s.onload = callback;\n",
       "  s.onerror = function(){console.warn(\"failed to load library \" + url);};\n",
       "  document.getElementsByTagName(\"head\")[0].appendChild(s);\n",
       "}\n",
       "\n",
       "if(typeof(LDAvis) !== \"undefined\"){\n",
       "   // already loaded: just create the visualization\n",
       "   !function(LDAvis){\n",
       "       new LDAvis(\"#\" + \"ldavis_el1012421893983898088827930876\", ldavis_el1012421893983898088827930876_data);\n",
       "   }(LDAvis);\n",
       "}else if(typeof define === \"function\" && define.amd){\n",
       "   // require.js is available: use it to load d3/LDAvis\n",
       "   require.config({paths: {d3: \"https://d3js.org/d3.v5\"}});\n",
       "   require([\"d3\"], function(d3){\n",
       "      window.d3 = d3;\n",
       "      LDAvis_load_lib(\"https://cdn.jsdelivr.net/gh/bmabey/pyLDAvis@3.4.0/pyLDAvis/js/ldavis.v3.0.0.js\", function(){\n",
       "        new LDAvis(\"#\" + \"ldavis_el1012421893983898088827930876\", ldavis_el1012421893983898088827930876_data);\n",
       "      });\n",
       "    });\n",
       "}else{\n",
       "    // require.js not available: dynamically load d3 & LDAvis\n",
       "    LDAvis_load_lib(\"https://d3js.org/d3.v5.js\", function(){\n",
       "         LDAvis_load_lib(\"https://cdn.jsdelivr.net/gh/bmabey/pyLDAvis@3.4.0/pyLDAvis/js/ldavis.v3.0.0.js\", function(){\n",
       "                 new LDAvis(\"#\" + \"ldavis_el1012421893983898088827930876\", ldavis_el1012421893983898088827930876_data);\n",
       "            })\n",
       "         });\n",
       "}\n",
       "</script>"
      ],
      "text/plain": [
       "PreparedData(topic_coordinates=              x         y  topics  cluster       Freq\n",
       "topic                                                \n",
       "0     -0.056967 -0.125021       1        1  28.756981\n",
       "2     -0.113956  0.185911       2        1  25.060675\n",
       "1     -0.044192 -0.104748       3        1  24.744543\n",
       "3      0.215115  0.043858       4        1  21.437801, topic_info=         Term        Freq       Total Category  logprob  loglift\n",
       "29       true  589.000000  589.000000  Default  30.0000  30.0000\n",
       "999   exactly  353.000000  353.000000  Default  29.0000  29.0000\n",
       "3032  account  312.000000  312.000000  Default  28.0000  28.0000\n",
       "230      time  669.000000  669.000000  Default  27.0000  27.0000\n",
       "70       good  865.000000  865.000000  Default  26.0000  26.0000\n",
       "...       ...         ...         ...      ...      ...      ...\n",
       "573      life   67.636595  113.608086   Topic4  -5.8009   1.0214\n",
       "224    people   83.921059  522.451945   Topic4  -5.5852  -0.2886\n",
       "30       well   74.394952  278.795620   Topic4  -5.7057   0.2189\n",
       "6        need   77.782934  524.089569   Topic4  -5.6611  -0.3677\n",
       "168       way   71.369339  276.135922   Topic4  -5.7472   0.1870\n",
       "\n",
       "[292 rows x 6 columns], token_table=      Topic      Freq        Term\n",
       "term                             \n",
       "186       1  0.782395  absolutely\n",
       "186       4  0.216556  absolutely\n",
       "3039      2  0.973118      accord\n",
       "3032      1  0.993964     account\n",
       "3032      4  0.003196     account\n",
       "...     ...       ...         ...\n",
       "74        3  0.657882       write\n",
       "287       1  0.286344        year\n",
       "287       2  0.053867        year\n",
       "287       3  0.552842        year\n",
       "287       4  0.107733        year\n",
       "\n",
       "[565 rows x 3 columns], R=30, lambda_step=0.01, plot_opts={'xlab': 'PC1', 'ylab': 'PC2'}, topic_order=[1, 3, 2, 4])"
      ]
     },
     "execution_count": 21,
     "metadata": {},
     "output_type": "execute_result"
    }
   ],
   "source": [
    "import pyLDAvis\n",
    "import pyLDAvis.gensim_models as gensimvis\n",
    "\n",
    "\n",
    "pyLDAvis.enable_notebook()\n",
    "\n",
    "vis = gensimvis.prepare(lda_model[3], corpus, id2word)\n",
    "vis"
   ]
  }
 ],
 "metadata": {
  "kernelspec": {
   "display_name": "Python 3",
   "language": "python",
   "name": "python3"
  },
  "language_info": {
   "codemirror_mode": {
    "name": "ipython",
    "version": 3
   },
   "file_extension": ".py",
   "mimetype": "text/x-python",
   "name": "python",
   "nbconvert_exporter": "python",
   "pygments_lexer": "ipython3",
   "version": "3.9.7"
  },
  "orig_nbformat": 4
 },
 "nbformat": 4,
 "nbformat_minor": 2
}
