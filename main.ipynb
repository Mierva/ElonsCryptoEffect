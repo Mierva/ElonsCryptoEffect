{
 "cells": [
  {
   "attachments": {},
   "cell_type": "markdown",
   "metadata": {
    "tags": []
   },
   "source": [
    "# Fetching crypto and tweets data."
   ]
  },
  {
   "cell_type": "code",
   "execution_count": 1,
   "metadata": {},
   "outputs": [],
   "source": [
    "from sklearn.preprocessing import OrdinalEncoder\n",
    "from crypto_api import CryptoApi\n",
    "import pandas as pd\n",
    "import numpy as np\n",
    "import re\n",
    "\n",
    "\n",
    "btc_df = pd.read_csv(r'Data\\btc_data.csv',usecols=lambda x: x != \"Unnamed: 0\")"
   ]
  },
  {
   "attachments": {},
   "cell_type": "markdown",
   "metadata": {},
   "source": [
    "# Analysis of tweets"
   ]
  },
  {
   "cell_type": "code",
   "execution_count": 2,
   "metadata": {},
   "outputs": [],
   "source": [
    "'''\n",
    "TODO: GENERAL DATA TASKS:\n",
    "0) find a way to deal with multiple tweets for a day\n",
    "1) merge 2 datasets into \n",
    "2) imput missing data, maybe try interpolation or expectation maximization\n",
    "    2.1) compare with mean, median imput methods\n",
    "3) ivestigate relationship within data, maybe correlation matrix etc\n",
    "'''\n",
    "\n",
    "tweets_df = pd.read_csv(r'Data/elon_tweets.csv', index_col=0)\n",
    "tweets_df['date'] = pd.to_datetime(tweets_df['date'])\n",
    "                                                \n",
    "tweets_df = (tweets_df\n",
    "             .dropna(axis=1, how='all')\n",
    "             .drop(['vibe','cashtags'], axis=1)) # 1 and 18 notna values respectively  "
   ]
  },
  {
   "attachments": {},
   "cell_type": "markdown",
   "metadata": {},
   "source": [
    "## Dealing with sparse columns"
   ]
  },
  {
   "cell_type": "code",
   "execution_count": 3,
   "metadata": {},
   "outputs": [],
   "source": [
    "sparse_cols = tweets_df.columns[tweets_df.notnull().mean() < 1.0].values.copy()\n",
    "\n",
    "mod_tweets_df = tweets_df.copy()\n",
    "mod_tweets_df = (mod_tweets_df[mod_tweets_df['lang']=='en']\n",
    "                 .drop(['id','url','source','sourceUrl'], axis=1)                 \n",
    "                 .reset_index(drop=True)\n",
    "                 .copy())\n",
    "\n",
    "mod_tweets_df = mod_tweets_df.drop(['lang'], axis=1)"
   ]
  },
  {
   "attachments": {},
   "cell_type": "markdown",
   "metadata": {},
   "source": [
    "## Data cleaning and preprocessing"
   ]
  },
  {
   "cell_type": "code",
   "execution_count": 4,
   "metadata": {},
   "outputs": [],
   "source": [
    "encoder = OrdinalEncoder()\n",
    "mod_tweets_df['sourceLabel_encoded'] = encoder.fit_transform(mod_tweets_df['sourceLabel'].values.reshape(-1, 1))\n",
    "mod_tweets_df['isReplied']   = [0 if type(tweet)==float else 1 for tweet in mod_tweets_df['inReplyToUser']]\n",
    "mod_tweets_df['isMentioned'] = [0 if type(tweet)==float else 1 for tweet in mod_tweets_df['mentionedUsers']]\n",
    "\n",
    "#mod_tweets_df = mod_tweets_df.drop(['sourceLabel','inReplyToUser','mentionedUsers'], axis=1)\n",
    "\n",
    "\n",
    "def extract_dict(line: str, prepare_to_df: False):\n",
    "    \"\"\"Extracts data from a dict represented as string and makes it a dict.\n",
    "\n",
    "    ## Parameters:\n",
    "        line (str): row of a Series/DataFrame to be preprocessed.\n",
    "        prepare_to_df (bool): prepares extracted dict to be wrapped into DataFrame.\n",
    "\n",
    "    ## Returns:\n",
    "        dict: extracted dict from string.\n",
    "    \"\"\"    \n",
    "\n",
    "    extracted_content = dict(re.findall(r\"'(\\w+)': '?({.*}|datetime.datetime\\(.*\\)|[\\w\\d/:\\. ]*)'?\", line))\n",
    "    \n",
    "    # Wraps dict values into lists to be easily represented as a DataFrame row.\n",
    "    if prepare_to_df:\n",
    "        for key,value in extracted_content.items():\n",
    "            if value == '':\n",
    "                extracted_content[key] = [None]\n",
    "            else:\n",
    "                extracted_content[key] = value\n",
    "        \n",
    "    return extracted_content\n",
    "\n",
    "\n",
    "new_df = mod_tweets_df.copy()     \n",
    "extracted_df = (pd.DataFrame([*mod_tweets_df['user']\n",
    "                              .apply(lambda x: extract_dict(x, True))])\n",
    "                )\n",
    "\n",
    "new_df = (pd.concat([new_df, extracted_df], axis=1)\n",
    "            .drop(['user','username','id','displayname','verified','created',\n",
    "                    'location','protected','profileImageUrl','profileBannerUrl',\n",
    "                    'rawDescription','renderedDescription','favouritesCount',\n",
    "                    'friendsCount','mediaCount','statusesCount'], axis=1))"
   ]
  },
  {
   "cell_type": "code",
   "execution_count": 5,
   "metadata": {},
   "outputs": [],
   "source": [
    "# Converting columns containing numbers to int after extraction.\n",
    "for column in new_df:\n",
    "    if 'Count' in column:\n",
    "        new_df[column] = new_df[column].astype('Int64').copy()"
   ]
  },
  {
   "cell_type": "code",
   "execution_count": 6,
   "metadata": {},
   "outputs": [],
   "source": [
    "new_df[['rawContent','isReplied','isMentioned']].query(\"rawContent.str.contains('@')\")\n",
    "\n",
    "new_df['mentionsCount'] = new_df['rawContent'].str.count(r'@[\\w\\d]+')"
   ]
  },
  {
   "cell_type": "code",
   "execution_count": 7,
   "metadata": {},
   "outputs": [
    {
     "name": "stdout",
     "output_type": "stream",
     "text": [
      "True\n"
     ]
    }
   ],
   "source": [
    "new_df['mentions'] = new_df['rawContent'].apply(lambda x : re.findall(r'(@[^\\s]+)', x))\n",
    "\n",
    "count = 0\n",
    "for a,b in new_df[['mentionsCount','mentions']].values:\n",
    "    if a==len(b):\n",
    "        count +=1 \n",
    "print(count==len(new_df))"
   ]
  },
  {
   "cell_type": "code",
   "execution_count": 8,
   "metadata": {},
   "outputs": [],
   "source": [
    "new_df['charCount'] = new_df['rawContent'].apply(lambda x: len(x))\n",
    "new_df = new_df.drop('descriptionLinks', axis=1)"
   ]
  },
  {
   "cell_type": "code",
   "execution_count": 9,
   "metadata": {},
   "outputs": [
    {
     "data": {
      "text/plain": [
       "'{\\'url\\': \\'https://twitter.com/ggreenwald/status/1625871270737809408\\', \\'date\\': datetime.datetime(2023, 2, 15, 14, 54, 52, tzinfo=datetime.timezone.utc), \\'rawContent\\': \"The corporate media\\'s ability to -- overnight -- turn anyone who dissents in anyway into some sort of fascist or even Hitler-like figure, and then have millions of their followers go around mindlessly repeating it, is both impressive and chilling:\", \\'renderedContent\\': \"The corporate media\\'s ability to -- overnight -- turn anyone who dissents in anyway into some sort of fascist or even Hitler-like figure, and then have millions of their followers go around mindlessly repeating it, is both impressive and chilling:\", \\'id\\': 1625871270737809408, \\'user\\': {\\'username\\': \\'ggreenwald\\', \\'id\\': 16076032, \\'displayname\\': \\'Glenn Greenwald\\', \\'rawDescription\\': \\'Journalist; Author; Host, @SystemUpdate_; Columnist, @Folha; Co-Founder: The Intercept, @TheInterceptBr; @abrigo_hope, @FreedomofPress, @ongcriadefavela. Vegan.\\', \\'renderedDescription\\': \\'Journalist; Author; Host, @SystemUpdate_; Columnist, @Folha; Co-Founder: The Intercept, @TheInterceptBr; @abrigo_hope, @FreedomofPress, @ongcriadefavela. Vegan.\\', \\'descriptionLinks\\': None, \\'verified\\': True, \\'created\\': datetime.datetime(2008, 9, 1, 3, 13, 32, tzinfo=datetime.timezone.utc), \\'followersCount\\': 2005848, \\'friendsCount\\': 981, \\'statusesCount\\': 89311, \\'favouritesCount\\': 20442, \\'listedCount\\': 22110, \\'mediaCount\\': 10051, \\'location\\': \\'GlennGreenwald@gmail.com\\', \\'protected\\': False, \\'link\\': {\\'text\\': \\'linktr.ee/glenngreenwald\\', \\'url\\': \\'https://linktr.ee/glenngreenwald\\', \\'tcourl\\': \\'https://t.co/rw7Uw16ZvA\\', \\'indices\\': (0, 23)}, \\'profileImageUrl\\': \\'https://pbs.twimg.com/profile_images/1092582027994509312/cpYWuYI9_normal.jpg\\', \\'profileBannerUrl\\': \\'https://pbs.twimg.com/profile_banners/16076032/1670619705\\', \\'label\\': None}, \\'replyCount\\': 1814, \\'retweetCount\\': 8513, \\'likeCount\\': 40283, \\'quoteCount\\': 585, \\'conversationId\\': 1625871270737809408, \\'lang\\': \\'en\\', \\'source\\': \\'<a href=\"https://mobile.twitter.com\" rel=\"nofollow\">Twitter Web App</a>\\', \\'sourceUrl\\': \\'https://mobile.twitter.com\\', \\'sourceLabel\\': \\'Twitter Web App\\', \\'links\\': None, \\'media\\': None, \\'retweetedTweet\\': None, \\'quotedTweet\\': None, \\'inReplyToTweetId\\': None, \\'inReplyToUser\\': None, \\'mentionedUsers\\': None, \\'coordinates\\': None, \\'place\\': None, \\'hashtags\\': None, \\'cashtags\\': None, \\'card\\': None, \\'viewCount\\': 76140755, \\'vibe\\': None}'"
      ]
     },
     "execution_count": 9,
     "metadata": {},
     "output_type": "execute_result"
    }
   ],
   "source": [
    "#links = tweets_df[tweets_df.columns[tweets_df.columns.isin(new_df.columns)==False]]['links'].value_counts().copy()\n",
    "\n",
    "tweets_df[tweets_df['rawContent']=='True']['quotedTweet'].iloc[0]"
   ]
  },
  {
   "attachments": {},
   "cell_type": "markdown",
   "metadata": {},
   "source": [
    "# Model Bulding"
   ]
  },
  {
   "cell_type": "code",
   "execution_count": 10,
   "metadata": {},
   "outputs": [],
   "source": [
    "from sklearn.feature_extraction.text import TfidfVectorizer\n",
    "from sklearn.decomposition import LatentDirichletAllocation\n",
    "import spacy\n",
    "\n",
    "nlp = spacy.load('en_core_web_sm')\n",
    "\n",
    "url_pattern = [{\"label\": \"URL\", \n",
    "                \"pattern\": [{\"LIKE_URL\": True}]},\n",
    "               {\"label\": \"TAG\", \n",
    "                \"pattern\": [{\"TEXT\": {\"REGEX\": \"@\\w+\"}}]}]\n",
    "\n",
    "ruler = nlp.add_pipe('entity_ruler', before='ner')\n",
    "ruler.add_patterns(url_pattern)\n",
    "\n",
    "corpus = []\n",
    "for doc in nlp.pipe(new_df['rawContent'], batch_size=1000, n_process=4):\n",
    "    tokens = []\n",
    "    for token in doc:\n",
    "        if not token.is_stop and (token.is_alpha or token.ent_type_=='TAG'):\n",
    "            tokens.append(token.lemma_)\n",
    "            \n",
    "    corpus.append(' '.join(tokens))\n",
    "\n",
    "train_data = corpus.copy()"
   ]
  },
  {
   "cell_type": "code",
   "execution_count": 11,
   "metadata": {},
   "outputs": [
    {
     "name": "stdout",
     "output_type": "stream",
     "text": [
      "iteration: 1 of max_iter: 10\n",
      "iteration: 2 of max_iter: 10\n",
      "iteration: 3 of max_iter: 10\n",
      "iteration: 4 of max_iter: 10\n",
      "iteration: 5 of max_iter: 10\n",
      "iteration: 6 of max_iter: 10\n",
      "iteration: 7 of max_iter: 10\n",
      "iteration: 8 of max_iter: 10\n",
      "iteration: 9 of max_iter: 10\n",
      "iteration: 10 of max_iter: 10\n"
     ]
    },
    {
     "data": {
      "text/html": [
       "<style>#sk-container-id-1 {color: black;background-color: white;}#sk-container-id-1 pre{padding: 0;}#sk-container-id-1 div.sk-toggleable {background-color: white;}#sk-container-id-1 label.sk-toggleable__label {cursor: pointer;display: block;width: 100%;margin-bottom: 0;padding: 0.3em;box-sizing: border-box;text-align: center;}#sk-container-id-1 label.sk-toggleable__label-arrow:before {content: \"▸\";float: left;margin-right: 0.25em;color: #696969;}#sk-container-id-1 label.sk-toggleable__label-arrow:hover:before {color: black;}#sk-container-id-1 div.sk-estimator:hover label.sk-toggleable__label-arrow:before {color: black;}#sk-container-id-1 div.sk-toggleable__content {max-height: 0;max-width: 0;overflow: hidden;text-align: left;background-color: #f0f8ff;}#sk-container-id-1 div.sk-toggleable__content pre {margin: 0.2em;color: black;border-radius: 0.25em;background-color: #f0f8ff;}#sk-container-id-1 input.sk-toggleable__control:checked~div.sk-toggleable__content {max-height: 200px;max-width: 100%;overflow: auto;}#sk-container-id-1 input.sk-toggleable__control:checked~label.sk-toggleable__label-arrow:before {content: \"▾\";}#sk-container-id-1 div.sk-estimator input.sk-toggleable__control:checked~label.sk-toggleable__label {background-color: #d4ebff;}#sk-container-id-1 div.sk-label input.sk-toggleable__control:checked~label.sk-toggleable__label {background-color: #d4ebff;}#sk-container-id-1 input.sk-hidden--visually {border: 0;clip: rect(1px 1px 1px 1px);clip: rect(1px, 1px, 1px, 1px);height: 1px;margin: -1px;overflow: hidden;padding: 0;position: absolute;width: 1px;}#sk-container-id-1 div.sk-estimator {font-family: monospace;background-color: #f0f8ff;border: 1px dotted black;border-radius: 0.25em;box-sizing: border-box;margin-bottom: 0.5em;}#sk-container-id-1 div.sk-estimator:hover {background-color: #d4ebff;}#sk-container-id-1 div.sk-parallel-item::after {content: \"\";width: 100%;border-bottom: 1px solid gray;flex-grow: 1;}#sk-container-id-1 div.sk-label:hover label.sk-toggleable__label {background-color: #d4ebff;}#sk-container-id-1 div.sk-serial::before {content: \"\";position: absolute;border-left: 1px solid gray;box-sizing: border-box;top: 0;bottom: 0;left: 50%;z-index: 0;}#sk-container-id-1 div.sk-serial {display: flex;flex-direction: column;align-items: center;background-color: white;padding-right: 0.2em;padding-left: 0.2em;position: relative;}#sk-container-id-1 div.sk-item {position: relative;z-index: 1;}#sk-container-id-1 div.sk-parallel {display: flex;align-items: stretch;justify-content: center;background-color: white;position: relative;}#sk-container-id-1 div.sk-item::before, #sk-container-id-1 div.sk-parallel-item::before {content: \"\";position: absolute;border-left: 1px solid gray;box-sizing: border-box;top: 0;bottom: 0;left: 50%;z-index: -1;}#sk-container-id-1 div.sk-parallel-item {display: flex;flex-direction: column;z-index: 1;position: relative;background-color: white;}#sk-container-id-1 div.sk-parallel-item:first-child::after {align-self: flex-end;width: 50%;}#sk-container-id-1 div.sk-parallel-item:last-child::after {align-self: flex-start;width: 50%;}#sk-container-id-1 div.sk-parallel-item:only-child::after {width: 0;}#sk-container-id-1 div.sk-dashed-wrapped {border: 1px dashed gray;margin: 0 0.4em 0.5em 0.4em;box-sizing: border-box;padding-bottom: 0.4em;background-color: white;}#sk-container-id-1 div.sk-label label {font-family: monospace;font-weight: bold;display: inline-block;line-height: 1.2em;}#sk-container-id-1 div.sk-label-container {text-align: center;}#sk-container-id-1 div.sk-container {/* jupyter's `normalize.less` sets `[hidden] { display: none; }` but bootstrap.min.css set `[hidden] { display: none !important; }` so we also need the `!important` here to be able to override the default hidden behavior on the sphinx rendered scikit-learn.org. See: https://github.com/scikit-learn/scikit-learn/issues/21755 */display: inline-block !important;position: relative;}#sk-container-id-1 div.sk-text-repr-fallback {display: none;}</style><div id=\"sk-container-id-1\" class=\"sk-top-container\"><div class=\"sk-text-repr-fallback\"><pre>LatentDirichletAllocation(batch_size=3840, learning_method=&#x27;online&#x27;,\n",
       "                          n_components=3, n_jobs=4, random_state=1,\n",
       "                          verbose=True)</pre><b>In a Jupyter environment, please rerun this cell to show the HTML representation or trust the notebook. <br />On GitHub, the HTML representation is unable to render, please try loading this page with nbviewer.org.</b></div><div class=\"sk-container\" hidden><div class=\"sk-item\"><div class=\"sk-estimator sk-toggleable\"><input class=\"sk-toggleable__control sk-hidden--visually\" id=\"sk-estimator-id-1\" type=\"checkbox\" checked><label for=\"sk-estimator-id-1\" class=\"sk-toggleable__label sk-toggleable__label-arrow\">LatentDirichletAllocation</label><div class=\"sk-toggleable__content\"><pre>LatentDirichletAllocation(batch_size=3840, learning_method=&#x27;online&#x27;,\n",
       "                          n_components=3, n_jobs=4, random_state=1,\n",
       "                          verbose=True)</pre></div></div></div></div></div>"
      ],
      "text/plain": [
       "LatentDirichletAllocation(batch_size=3840, learning_method='online',\n",
       "                          n_components=3, n_jobs=4, random_state=1,\n",
       "                          verbose=True)"
      ]
     },
     "execution_count": 11,
     "metadata": {},
     "output_type": "execute_result"
    }
   ],
   "source": [
    "# Vectorize the documents with TfidfVectorizer\n",
    "vectorizer = TfidfVectorizer()\n",
    "vectorized_docs = vectorizer.fit_transform(train_data)\n",
    "\n",
    "# Train the LDA model\n",
    "lda = LatentDirichletAllocation(n_components=3, random_state=1, verbose=True, learning_method='online', n_jobs=4, batch_size=128*30)\n",
    "lda.fit(vectorized_docs)"
   ]
  },
  {
   "cell_type": "code",
   "execution_count": 12,
   "metadata": {},
   "outputs": [
    {
     "name": "stdout",
     "output_type": "stream",
     "text": [
      "Topic 0:\n",
      "   great          - 69.97\n",
      "   good           - 53.01\n",
      "   rainmaker1973  - 42.34\n",
      "   amp            - 40.83\n",
      "   say            - 37.21\n",
      "\n",
      "Topic 1:\n",
      "   yeah           - 75.04\n",
      "   billym2k       - 66.33\n",
      "   good           - 54.97\n",
      "   absolutely     - 54.76\n",
      "   cool           - 47.38\n",
      "\n",
      "Topic 2:\n",
      "   tesla          - 257.21\n",
      "   amp            - 247.92\n",
      "   spacex         - 149.56\n",
      "   wholemarsblog  - 127.66\n",
      "   teslaownerssv  - 122.1\n",
      "\n"
     ]
    }
   ],
   "source": [
    "# Functions for printing keywords for each topic\n",
    "def selected_topics(model, vectorizer, top_n=3):\n",
    "    for idx, topic in enumerate(model.components_):\n",
    "        print(f\"Topic {idx}:\")\n",
    "        for i in topic.argsort()[:-top_n - 1:-1]:\n",
    "            print(f'   {vectorizer.get_feature_names_out()[i]:<15}- {round(topic[i], 2)}')\n",
    "        print()\n",
    "        \n",
    "# Keywords for topics clustered by Latent Dirichlet Allocation\n",
    "selected_topics(lda, vectorizer, 5)"
   ]
  },
  {
   "cell_type": "code",
   "execution_count": 13,
   "metadata": {},
   "outputs": [
    {
     "data": {
      "image/png": "[encoded data removed]",
      "text/plain": [
       "<Figure size 864x576 with 1 Axes>"
      ]
     },
     "metadata": {
      "needs_background": "light"
     },
     "output_type": "display_data"
    }
   ],
   "source": [
    "# What does 'amp' mean and is it significant?\n",
    "\n",
    "import matplotlib.pyplot as plt\n",
    "\n",
    "dates = []\n",
    "docs = []\n",
    "for i, doc in enumerate(train_data):\n",
    "    if ' amp ' in doc:\n",
    "        dates.append(new_df['date'].iloc[i])\n",
    "        docs.append(1)\n",
    "\n",
    "final_data = pd.DataFrame(zip(dates, docs))\n",
    "\n",
    "plt.figure(figsize=(12,8))\n",
    "a,b,c = plt.hist(final_data.iloc[:,0], weights=np.ones(len(final_data))/len(final_data), edgecolor='black')\n",
    "plt.ylim(0, max(a)+0.03)\n",
    "plt.show()"
   ]
  },
  {
   "cell_type": "code",
   "execution_count": 14,
   "metadata": {},
   "outputs": [
    {
     "name": "stdout",
     "output_type": "stream",
     "text": [
      "yum          -  INTJ  -UH   -interjection\n",
      "well         -  INTJ  -UH   -interjection\n",
      "deep         -  ADV   -RB   -adverb\n",
      "fried        -  ADJ   -JJ   -adjective (English), other noun-modifier (Chinese)\n",
      "butter       -  NOUN  -NN   -noun, singular or mass\n"
     ]
    }
   ],
   "source": [
    "# Trying to use spaCy entities to preprocess and clean input data better\n",
    "# Maybe i need only nouns and verbs, or some entities such as tags(make a entity ruler for it).\n",
    "\n",
    "doc = nlp(train_data[6])\n",
    "\n",
    "for token in doc:\n",
    "    #if token.is_stop or token.is_alpha==False:\n",
    "    if token.pos_:\n",
    "        print(f'{token.text:<12} -{token.pos_:^8}-{token.tag_:<5}-{spacy.explain(token.tag_)}')"
   ]
  },
  {
   "cell_type": "code",
   "execution_count": 15,
   "metadata": {},
   "outputs": [
    {
     "name": "stdout",
     "output_type": "stream",
     "text": [
      "Topic: 0 \n",
      "Words: 0.067*\"point\" + 0.051*\"party\" + 0.045*\"release\" + 0.043*\"move\" + 0.042*\"change\"\n",
      "Topic: 1 \n",
      "Words: 0.074*\"like\" + 0.056*\"month\" + 0.052*\"lot\" + 0.031*\"check\" + 0.025*\"return\"\n",
      "Topic: 2 \n",
      "Words: 0.108*\"tweet\" + 0.068*\"happen\" + 0.056*\"tell\" + 0.042*\"hope\" + 0.041*\"money\"\n",
      "Topic: 3 \n",
      "Words: 0.111*\"say\" + 0.083*\"have\" + 0.037*\"start\" + 0.035*\"concern\" + 0.027*\"amount\"\n",
      "Topic: 4 \n",
      "Words: 0.270*\"’\" + 0.103*\"do\" + 0.041*\"know\" + 0.037*\"medium\" + 0.027*\"problem\"\n",
      "Topic: 5 \n",
      "Words: 0.059*\"note\" + 0.048*\"feel\" + 0.043*\"world\" + 0.036*\"base\" + 0.035*\"understand\"\n",
      "Topic: 6 \n",
      "Words: 0.132*\"work\" + 0.037*\"team\" + 0.031*\"demand\" + 0.030*\"code\" + 0.029*\"support\"\n",
      "Topic: 7 \n",
      "Words: 0.173*\"make\" + 0.058*\"agree\" + 0.056*\"life\" + 0.044*\"reality\" + 0.031*\"term\"\n",
      "Topic: 8 \n",
      "Words: 0.061*\"keep\" + 0.050*\"use\" + 0.039*\"government\" + 0.039*\"die\" + 0.036*\"live\"\n",
      "Topic: 9 \n",
      "Words: 0.079*\"thing\" + 0.053*\"case\" + 0.037*\"energy\" + 0.036*\"idea\" + 0.032*\"_\"\n",
      "Topic: 10 \n",
      "Words: 0.069*\"question\" + 0.042*\"buy\" + 0.040*\"orbit\" + 0.036*\"launch\" + 0.034*\"trend\"\n",
      "Topic: 11 \n",
      "Words: 0.082*\"user\" + 0.054*\"twitter\" + 0.050*\"need\" + 0.033*\"fact\" + 0.028*\"approval\"\n",
      "Topic: 12 \n",
      "Words: 0.099*\"be\" + 0.070*\"seem\" + 0.055*\"source\" + 0.041*\"take\" + 0.030*\"view\"\n",
      "Topic: 13 \n",
      "Words: 0.091*\"day\" + 0.083*\"see\" + 0.036*\"friend\" + 0.034*\"help\" + 0.032*\"do\"\n",
      "Topic: 14 \n",
      "Words: 0.122*\"account\" + 0.087*\"come\" + 0.060*\"look\" + 0.042*\"future\" + 0.042*\"word\"\n",
      "Topic: 15 \n",
      "Words: 0.054*\"list\" + 0.045*\"control\" + 0.043*\"action\" + 0.029*\"verify\" + 0.029*\"engage\"\n",
      "Topic: 16 \n",
      "Words: 0.060*\"people\" + 0.057*\"add\" + 0.056*\"post\" + 0.041*\"video\" + 0.033*\"game\"\n",
      "Topic: 17 \n",
      "Words: 0.107*\"go\" + 0.080*\"’re\" + 0.032*\"pyramid\" + 0.029*\"truth\" + 0.029*\"mean\"\n",
      "Topic: 18 \n",
      "Words: 0.080*\"want\" + 0.045*\"part\" + 0.037*\"get\" + 0.036*\"let\" + 0.035*\"lead\"\n",
      "Topic: 19 \n",
      "Words: 0.149*\"time\" + 0.048*\"fix\" + 0.046*\"public\" + 0.036*\"engine\" + 0.030*\"trust\"\n",
      "Topic: 20 \n",
      "Words: 0.090*\"try\" + 0.056*\"love\" + 0.040*\"thread\" + 0.040*\"call\" + 0.027*\"count\"\n",
      "Topic: 21 \n",
      "Words: 0.053*\"production\" + 0.052*\"name\" + 0.040*\"rate\" + 0.036*\"recommendation\" + 0.033*\"company\"\n",
      "Topic: 22 \n",
      "Words: 0.121*\"week\" + 0.061*\"thank\" + 0.049*\"reduce\" + 0.032*\"enable\" + 0.030*\"end\"\n",
      "Topic: 23 \n",
      "Words: 0.061*\"write\" + 0.039*\"turn\" + 0.037*\"mess\" + 0.031*\"article\" + 0.028*\"fire\"\n",
      "Topic: 24 \n",
      "Words: 0.107*\"year\" + 0.086*\"think\" + 0.051*\"one\" + 0.050*\"sound\" + 0.042*\"lose\"\n"
     ]
    }
   ],
   "source": [
    "from gensim import corpora\n",
    "from gensim.models import ldamodel\n",
    "\n",
    "gens_nlp = spacy.load('en_core_web_sm')\n",
    "df = new_df.copy()\n",
    "\n",
    "def preprocess(text):\n",
    "    doc = gens_nlp(text)\n",
    "    return [token.lemma_ for token in doc if token.pos_ == 'NOUN' or token.pos_ == 'VERB']\n",
    "\n",
    "documents = df['rawContent'].apply(preprocess)\n",
    "\n",
    "dictionary = corpora.Dictionary(documents)\n",
    "corpus = [dictionary.doc2bow(doc) for doc in documents]\n",
    "\n",
    "lda_model = ldamodel.LdaModel(corpus=corpus, id2word=dictionary, num_topics=25)\n",
    "\n",
    "for idx, topic in lda_model.print_topics(num_topics=25, num_words=5):\n",
    "    print(f'Topic: {idx} \\nWords: {topic}')"
   ]
  }
 ],
 "metadata": {
  "kernelspec": {
   "display_name": "Python 3",
   "language": "python",
   "name": "python3"
  },
  "language_info": {
   "codemirror_mode": {
    "name": "ipython",
    "version": 3
   },
   "file_extension": ".py",
   "mimetype": "text/x-python",
   "name": "python",
   "nbconvert_exporter": "python",
   "pygments_lexer": "ipython3",
   "version": "3.9.7"
  },
  "orig_nbformat": 4
 },
 "nbformat": 4,
 "nbformat_minor": 2
}
