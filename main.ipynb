{
 "cells": [
  {
   "attachments": {},
   "cell_type": "markdown",
   "metadata": {
    "tags": []
   },
   "source": [
    "# Fetching crypto and tweets data."
   ]
  },
  {
   "cell_type": "code",
   "execution_count": 1,
   "metadata": {},
   "outputs": [],
   "source": [
    "from sklearn.preprocessing import OrdinalEncoder\n",
    "from TweetScraper import TweetScraper\n",
    "from CryptoApi import CryptoApi\n",
    "import pandas as pd\n",
    "import numpy as np\n",
    "import re\n",
    "\n",
    "\n",
    "# scrp = TweetScraper(start='2023-05-04', end='2023-05-14', maxEmptyPages=2, max_workers=8)\n",
    "# new_tweets = scrp.parallel_download_tweets()\n",
    "# new_twt = pd.DataFrame(new_tweets)\n",
    "\n",
    "\n",
    "# with open('crypto_token.txt','r') as f:\n",
    "#     token = f.readline()\n",
    "    \n",
    "# crypto = CryptoApi(token)\n",
    "# crypto.get_data('btc','usd','day',period_count=90)"
   ]
  },
  {
   "attachments": {},
   "cell_type": "markdown",
   "metadata": {},
   "source": [
    "# Analysis of tweets"
   ]
  },
  {
   "cell_type": "code",
   "execution_count": 2,
   "metadata": {},
   "outputs": [],
   "source": [
    "# new_tweets_df = TweetScraper().fetch_data('2023-04-10','2023-06-09', frequency='d')\n",
    "# cleaned_df = TweetCleaner().transform(new_tweets_df)\n",
    "# nlp_model = LDA().fit(cleaned_df)\n",
    "# cleaned_df = extract_topics(nlp_model.topics)\n",
    "\n",
    "# new_btc_df = CryptoApi().fetch_data()\n",
    "# cleaned_btc = CryptoCleaner().transform(new_btc_df)\n",
    "# xgb_model = XGBoost().fit(cleaned_btc)"
   ]
  },
  {
   "cell_type": "code",
   "execution_count": 3,
   "metadata": {},
   "outputs": [],
   "source": [
    "from DataPreparation.CryptoPreprocessor import CryptoPreprocessor\n",
    "from DataPreparation.TweetPreprocessor import TweetPreprocessor\n",
    "from DataPreparation.TextVectorizer import TextVectorizer\n",
    "from gensim.test.utils import datapath\n",
    "from gensim.models import LdaMulticore\n",
    "\n",
    "\n",
    "tweets_df = pd.read_csv(r'Data/elon_tweets.csv', index_col=0)\n",
    "twt_prep = TweetPreprocessor(tweets_df)\n",
    "mod_tweets_df = twt_prep.transform()\n",
    "\n",
    "text2vec = TextVectorizer()\n",
    "preprocessing_pipeline = text2vec.make_pipeline()\n",
    "id2word, corpus = preprocessing_pipeline.transform(mod_tweets_df['rawContent'].values.tolist())"
   ]
  },
  {
   "cell_type": "code",
   "execution_count": 4,
   "metadata": {},
   "outputs": [
    {
     "name": "stdout",
     "output_type": "stream",
     "text": [
      "|   iter    |  target   |     x     |     y     |\n",
      "-------------------------------------------------\n",
      "| \u001b[0m1        \u001b[0m | \u001b[0m-68.54   \u001b[0m | \u001b[0m6.17     \u001b[0m | \u001b[0m6.61     \u001b[0m |\n",
      "| \u001b[95m2        \u001b[0m | \u001b[95m-32.87   \u001b[0m | \u001b[95m3.088    \u001b[0m | \u001b[95m-3.934   \u001b[0m |\n",
      "| \u001b[0m3        \u001b[0m | \u001b[0m-119.6   \u001b[0m | \u001b[0m10.3     \u001b[0m | \u001b[0m4.804    \u001b[0m |\n",
      "| \u001b[95m4        \u001b[0m | \u001b[95m-19.41   \u001b[0m | \u001b[95m3.493    \u001b[0m | \u001b[95m3.864    \u001b[0m |\n",
      "| \u001b[0m5        \u001b[0m | \u001b[0m-52.89   \u001b[0m | \u001b[0m2.861    \u001b[0m | \u001b[0m7.761    \u001b[0m |\n",
      "| \u001b[0m6        \u001b[0m | \u001b[0m-158.9   \u001b[0m | \u001b[0m5.956    \u001b[0m | \u001b[0m-10.16   \u001b[0m |\n",
      "| \u001b[95m7        \u001b[0m | \u001b[95m-3.768   \u001b[0m | \u001b[95m2.0      \u001b[0m | \u001b[95m0.1238   \u001b[0m |\n",
      "| \u001b[0m8        \u001b[0m | \u001b[0m-339.0   \u001b[0m | \u001b[0m12.0     \u001b[0m | \u001b[0m15.0     \u001b[0m |\n",
      "| \u001b[0m9        \u001b[0m | \u001b[0m-37.78   \u001b[0m | \u001b[0m5.997    \u001b[0m | \u001b[0m-0.6789  \u001b[0m |\n",
      "| \u001b[0m10       \u001b[0m | \u001b[0m-4.84    \u001b[0m | \u001b[0m2.0      \u001b[0m | \u001b[0m2.357    \u001b[0m |\n",
      "| \u001b[0m11       \u001b[0m | \u001b[0m-6.053   \u001b[0m | \u001b[0m2.654    \u001b[0m | \u001b[0m1.102    \u001b[0m |\n",
      "| \u001b[95m12       \u001b[0m | \u001b[95m-3.02    \u001b[0m | \u001b[95m2.0      \u001b[0m | \u001b[95m1.142    \u001b[0m |\n",
      "| \u001b[95m13       \u001b[0m | \u001b[95m-3.015   \u001b[0m | \u001b[95m2.0      \u001b[0m | \u001b[95m0.8758   \u001b[0m |\n",
      "| \u001b[0m14       \u001b[0m | \u001b[0m-3.059   \u001b[0m | \u001b[0m2.0      \u001b[0m | \u001b[0m1.243    \u001b[0m |\n",
      "| \u001b[95m15       \u001b[0m | \u001b[95m-3.013   \u001b[0m | \u001b[95m2.0      \u001b[0m | \u001b[95m0.8849   \u001b[0m |\n",
      "| \u001b[95m16       \u001b[0m | \u001b[95m-3.005   \u001b[0m | \u001b[95m2.0      \u001b[0m | \u001b[95m0.9285   \u001b[0m |\n",
      "=================================================\n",
      "|   iter    |  target   |     x     |     y     |\n",
      "-------------------------------------------------\n",
      "| \u001b[0m17       \u001b[0m | \u001b[0m-51.03   \u001b[0m | \u001b[0m2.001    \u001b[0m | \u001b[0m-5.93    \u001b[0m |\n",
      "| \u001b[0m18       \u001b[0m | \u001b[0m-186.1   \u001b[0m | \u001b[0m3.468    \u001b[0m | \u001b[0m-12.23   \u001b[0m |\n",
      "| \u001b[0m19       \u001b[0m | \u001b[0m-3.015   \u001b[0m | \u001b[0m2.0      \u001b[0m | \u001b[0m1.123    \u001b[0m |\n",
      "| \u001b[0m20       \u001b[0m | \u001b[0m-3.008   \u001b[0m | \u001b[0m2.0      \u001b[0m | \u001b[0m0.9088   \u001b[0m |\n",
      "| \u001b[0m21       \u001b[0m | \u001b[0m-3.02    \u001b[0m | \u001b[0m2.0      \u001b[0m | \u001b[0m1.143    \u001b[0m |\n",
      "=================================================\n"
     ]
    }
   ],
   "source": [
    "from bayes_opt import BayesianOptimization\n",
    "from bayes_opt.logger import JSONLogger\n",
    "from bayes_opt.event import Events\n",
    "from bayes_opt.util import load_logs\n",
    "\n",
    "\n",
    "def black_box_function(x, y):\n",
    "    \"\"\"Function with unknown internals we wish to maximize.\n",
    "\n",
    "    This is just serving as an example, for all intents and\n",
    "    purposes think of the internals of this function, i.e.: the process\n",
    "    which generates its output values, as unknown.\n",
    "    \"\"\"\n",
    "    return -x ** 2 - (y - 1) ** 2 + 1\n",
    "\n",
    "def optimize_bayes(func, pbounds=None, verbose=2):\n",
    "    if pbounds==None:\n",
    "        pbounds = {'x': (2, 12), 'y': (-15, 15)}\n",
    "        \n",
    "    optimizer = BayesianOptimization(\n",
    "        f=func,\n",
    "        pbounds=pbounds,\n",
    "        verbose=verbose, # verbose = 1 prints only when a maximum is observed, verbose = 0 is silent\n",
    "        random_state=1,\n",
    "    )\n",
    "    # optimizer.maximize(init_points=2,n_iter=3)\n",
    "            \n",
    "    # for i, res in enumerate(optimizer.res):\n",
    "    #     print(f\"Iteration {i}:\\n{res}\")\n",
    "                \n",
    "    # optimizer.set_bounds(new_bounds={\"x\": (-2, 3)})\n",
    "    optimizer.maximize(init_points=0, n_iter=15)\n",
    "            \n",
    "    # optimizer.probe(params={\"x\": 0.5, \"y\": 0.7}, lazy=True)\n",
    "    \n",
    "    logger = JSONLogger(path=\"./logs.log\")\n",
    "    optimizer.subscribe(Events.OPTIMIZATION_STEP, logger)\n",
    "    optimizer.maximize(init_points=2,n_iter=3)\n",
    "\n",
    "    \n",
    "optimize_bayes(func=black_box_function, verbose=2)"
   ]
  },
  {
   "cell_type": "code",
   "execution_count": 5,
   "metadata": {},
   "outputs": [
    {
     "name": "stdout",
     "output_type": "stream",
     "text": [
      "0\n"
     ]
    }
   ],
   "source": [
    "new_optimizer = BayesianOptimization(f=black_box_function,\n",
    "                                     pbounds={\"x\": (-2, 2), \"y\": (-2, 2)},\n",
    "                                     verbose=2,\n",
    "                                     random_state=7)\n",
    "print(len(new_optimizer.space))"
   ]
  },
  {
   "cell_type": "code",
   "execution_count": 6,
   "metadata": {},
   "outputs": [
    {
     "name": "stdout",
     "output_type": "stream",
     "text": [
      "New optimizer is now aware of 5 points.\n"
     ]
    }
   ],
   "source": [
    "load_logs(new_optimizer, logs=[\"./logs.log.json\"])\n",
    "print(\"New optimizer is now aware of {} points.\".format(len(new_optimizer.space)))"
   ]
  },
  {
   "cell_type": "code",
   "execution_count": 7,
   "metadata": {},
   "outputs": [
    {
     "name": "stdout",
     "output_type": "stream",
     "text": [
      "|   iter    |  target   |     x     |     y     |\n",
      "-------------------------------------------------\n"
     ]
    },
    {
     "name": "stdout",
     "output_type": "stream",
     "text": [
      "| \u001b[0m1        \u001b[0m | \u001b[0m-3.088   \u001b[0m | \u001b[0m-2.0     \u001b[0m | \u001b[0m0.7041   \u001b[0m |\n",
      "| \u001b[0m2        \u001b[0m | \u001b[0m-12.0    \u001b[0m | \u001b[0m-2.0     \u001b[0m | \u001b[0m-2.0     \u001b[0m |\n",
      "| \u001b[95m3        \u001b[0m | \u001b[95m-0.09238 \u001b[0m | \u001b[95m-0.3039  \u001b[0m | \u001b[95m2.0      \u001b[0m |\n",
      "| \u001b[0m4        \u001b[0m | \u001b[0m-3.687   \u001b[0m | \u001b[0m-1.932   \u001b[0m | \u001b[0m1.976    \u001b[0m |\n",
      "| \u001b[0m5        \u001b[0m | \u001b[0m-1.395   \u001b[0m | \u001b[0m0.1033   \u001b[0m | \u001b[0m-0.544   \u001b[0m |\n",
      "| \u001b[95m6        \u001b[0m | \u001b[95m0.9575   \u001b[0m | \u001b[95m0.17     \u001b[0m | \u001b[95m0.8834   \u001b[0m |\n",
      "| \u001b[0m7        \u001b[0m | \u001b[0m0.6536   \u001b[0m | \u001b[0m-0.5724  \u001b[0m | \u001b[0m0.8629   \u001b[0m |\n",
      "| \u001b[0m8        \u001b[0m | \u001b[0m0.9359   \u001b[0m | \u001b[0m-0.01227 \u001b[0m | \u001b[0m1.253    \u001b[0m |\n",
      "| \u001b[95m9        \u001b[0m | \u001b[95m0.9618   \u001b[0m | \u001b[95m-0.07542 \u001b[0m | \u001b[95m0.8198   \u001b[0m |\n",
      "| \u001b[95m10       \u001b[0m | \u001b[95m0.989    \u001b[0m | \u001b[95m-0.0929  \u001b[0m | \u001b[95m1.049    \u001b[0m |\n",
      "=================================================\n"
     ]
    }
   ],
   "source": [
    "new_optimizer.maximize(\n",
    "    init_points=0,\n",
    "    n_iter=10,\n",
    ")"
   ]
  },
  {
   "cell_type": "code",
   "execution_count": 8,
   "metadata": {},
   "outputs": [
    {
     "name": "stdout",
     "output_type": "stream",
     "text": [
      "\n",
      "To drop:\n",
      "retweetedTweet     0.000000\n",
      "coordinates        0.000000\n",
      "place              0.000000\n",
      "hashtags           0.002238\n",
      "card               0.041658\n",
      "viewCount          0.119786\n",
      "quoted_text        0.030138\n",
      "quoted_username    0.030138\n",
      "dtype: float64\n",
      "\n",
      "To drop:\n",
      "conversionSymbol    0.0\n",
      "dtype: float64\n"
     ]
    }
   ],
   "source": [
    "temp_file = datapath(r\"D:\\Projects\\ElonMuskCrypto\\Models\\NLPmodels\\lda\")\n",
    "lda_model = LdaMulticore.load(temp_file)\n",
    "\n",
    "btc_df = pd.read_csv('Data/btc_data.csv', index_col=0)\n",
    "crypto_prep = CryptoPreprocessor()\n",
    "topics_btc = crypto_prep.transform(lda_model, mod_tweets_df, btc_df)"
   ]
  },
  {
   "cell_type": "code",
   "execution_count": 9,
   "metadata": {},
   "outputs": [
    {
     "data": {
      "text/plain": [
       "Text(0.5, 1.0, 'open by month')"
      ]
     },
     "execution_count": 9,
     "metadata": {},
     "output_type": "execute_result"
    },
    {
     "data": {
      "image/png": "[encoded data removed]",
      "text/plain": [
       "<Figure size 1080x720 with 1 Axes>"
      ]
     },
     "metadata": {
      "needs_background": "light"
     },
     "output_type": "display_data"
    }
   ],
   "source": [
    "import matplotlib.pyplot as plt\n",
    "import seaborn as sns\n",
    "\n",
    "\n",
    "fig, ax = plt.subplots(figsize=(15,10))\n",
    "sns.boxplot(data=topics_btc, x='month',y='open')\n",
    "ax.set_title('open by month')"
   ]
  },
  {
   "cell_type": "code",
   "execution_count": 447,
   "metadata": {},
   "outputs": [
    {
     "name": "stdout",
     "output_type": "stream",
     "text": [
      "[0.546875, 0.503448275862069, 0.5087719298245614, 0.5818181818181818, 0.5133333333333333, 0.48044692737430167]\n",
      "mean = 0.5224489413687411\n"
     ]
    }
   ],
   "source": [
    "from xgboost import XGBClassifier\n",
    "from sklearn.model_selection import TimeSeriesSplit\n",
    "from sklearn.ensemble import RandomForestClassifier, HistGradientBoostingClassifier\n",
    "from sklearn.metrics import precision_score\n",
    "\n",
    "\n",
    "X = topics_btc.copy()\n",
    "X[\"tomorrow\"] = X[\"close\"].shift(-1)\n",
    "X[\"target\"] = (X[\"tomorrow\"] > X[\"close\"]).astype(int)\n",
    "\n",
    "target = 'target'\n",
    "predictors = [col for col in X if col not in ['target', 'tomorrow']]\n",
    "\n",
    "tss = TimeSeriesSplit(n_splits=6)\n",
    "baseline_model = RandomForestClassifier(n_estimators=100, min_samples_split=25, random_state=1, n_jobs=-1)\n",
    "baseline_nan_model = HistGradientBoostingClassifier(random_state=1)\n",
    "\n",
    "def backtest(X, predictors, model):\n",
    "    scores = []\n",
    "    for i, (train_idx, test_idx) in enumerate(tss.split(X)):\n",
    "        train = X.iloc[train_idx]\n",
    "        test  = X.iloc[test_idx]        \n",
    "        \n",
    "        model.fit(train[predictors], train['target'])\n",
    "        preds = model.predict(test[predictors])\n",
    "        preds = pd.Series(preds, index=test.index)\n",
    "        scores.append(precision_score(test['target'], preds))\n",
    "        \n",
    "    return scores\n",
    "\n",
    "scores = backtest(X, predictors, baseline_model)        \n",
    "print(scores) \n",
    "print(f'mean = {np.mean(scores)}')"
   ]
  },
  {
   "cell_type": "code",
   "execution_count": 448,
   "metadata": {},
   "outputs": [],
   "source": [
    "# horizons = [2,5,10,15,20,25]\n",
    "horizons = [2,5,60,250]\n",
    "new_predictors = []\n",
    "\n",
    "for horizon in horizons:\n",
    "    rolling_average = X.rolling(horizon).mean()\n",
    "    \n",
    "    ratio_column = f'close_ratio{horizon}'\n",
    "    X[ratio_column] = X['close'] / rolling_average['close']\n",
    "    \n",
    "    trend_column = f'Trend_{horizon}'\n",
    "    X[trend_column] = X.shift(1).rolling(horizon).sum()['target']\n",
    "    \n",
    "    new_predictors += [ratio_column, trend_column]\n",
    "    # new_predictors += [ratio_column]"
   ]
  },
  {
   "cell_type": "code",
   "execution_count": 449,
   "metadata": {},
   "outputs": [
    {
     "data": {
      "text/plain": [
       "1507"
      ]
     },
     "execution_count": 449,
     "metadata": {},
     "output_type": "execute_result"
    }
   ],
   "source": [
    "len(X.dropna())"
   ]
  },
  {
   "cell_type": "code",
   "execution_count": 450,
   "metadata": {},
   "outputs": [
    {
     "name": "stdout",
     "output_type": "stream",
     "text": [
      "[0.5, 0.6033057851239669, 0.578125, 0.5874125874125874, 0.50625, 0.45]\n",
      "mean = 0.5375155620894257\n"
     ]
    }
   ],
   "source": [
    "new_scores = backtest(X.dropna(), predictors+new_predictors, baseline_model)\n",
    "print(new_scores) \n",
    "print(f'mean = {np.mean(new_scores)}')"
   ]
  },
  {
   "cell_type": "code",
   "execution_count": 451,
   "metadata": {},
   "outputs": [
    {
     "name": "stdout",
     "output_type": "stream",
     "text": [
      "[0.5511811023622047, 0.415929203539823, 0.575, 0.5985401459854015, 0.48507462686567165, 0.5035460992907801]\n",
      "mean = 0.5215451963406469\n"
     ]
    }
   ],
   "source": [
    "new_scores = backtest(X, predictors+new_predictors, baseline_nan_model)\n",
    "print(new_scores) \n",
    "print(f'mean = {np.mean(new_scores)}')"
   ]
  },
  {
   "cell_type": "code",
   "execution_count": 452,
   "metadata": {},
   "outputs": [
    {
     "name": "stdout",
     "output_type": "stream",
     "text": [
      "[0.52, 0.5943396226415094, 0.5526315789473685, 0.544, 0.5078125, 0.48120300751879697]\n",
      "mean = 0.5333311181846124\n"
     ]
    }
   ],
   "source": [
    "new_scores = backtest(X.dropna(), predictors+new_predictors, baseline_nan_model)\n",
    "print(new_scores) \n",
    "print(f'mean = {np.mean(new_scores)}')"
   ]
  },
  {
   "cell_type": "code",
   "execution_count": 453,
   "metadata": {},
   "outputs": [],
   "source": [
    "#TODO: make tracker for features that were dropped due to high sparsity in case of leaving threshold of 50% sparsity\n",
    "# for future model upgrading and adding new features."
   ]
  }
 ],
 "metadata": {
  "kernelspec": {
   "display_name": "Python 3",
   "language": "python",
   "name": "python3"
  },
  "language_info": {
   "codemirror_mode": {
    "name": "ipython",
    "version": 3
   },
   "file_extension": ".py",
   "mimetype": "text/x-python",
   "name": "python",
   "nbconvert_exporter": "python",
   "pygments_lexer": "ipython3",
   "version": "3.9.7"
  },
  "orig_nbformat": 4
 },
 "nbformat": 4,
 "nbformat_minor": 2
}
