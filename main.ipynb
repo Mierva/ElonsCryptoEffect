{
 "cells": [
  {
   "attachments": {},
   "cell_type": "markdown",
   "metadata": {
    "tags": []
   },
   "source": [
    "# Fetching data from [cryptocompare.com](https://www.cryptocompare.com)"
   ]
  },
  {
   "cell_type": "code",
   "execution_count": 7,
   "metadata": {},
   "outputs": [],
   "source": [
    "import requests\n",
    "\n",
    "crypto_site = \"https://min-api.cryptocompare.com/data\"\n",
    "\n",
    "with open('token.txt', 'r') as f:\n",
    "    TOKEN = f.readline()\n",
    "\n",
    "HEADER = {'Authorization':TOKEN,\"Content-Type\": 'application/json'}\n",
    "\n",
    "\n",
    "def get(crypto, currency, days):\n",
    "    endpoint    = f'{crypto_site}/histoday?fsym={crypto}&tsym={currency}&limit={days}'\n",
    "    alternative = f'{crypto_site}/v2/histoday?fsym={crypto}&tsym={currency}&limit={days}'\n",
    "    response = requests.get(endpoint, headers=HEADER)\n",
    "    return response.json()"
   ]
  }
 ],
 "metadata": {
  "kernelspec": {
   "display_name": "Python 3",
   "language": "python",
   "name": "python3"
  },
  "language_info": {
   "codemirror_mode": {
    "name": "ipython",
    "version": 3
   },
   "file_extension": ".py",
   "mimetype": "text/x-python",
   "name": "python",
   "nbconvert_exporter": "python",
   "pygments_lexer": "ipython3",
   "version": "3.9.7"
  },
  "orig_nbformat": 4
 },
 "nbformat": 4,
 "nbformat_minor": 2
}
